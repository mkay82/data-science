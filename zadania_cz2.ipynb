{
 "cells": [
  {
   "cell_type": "markdown",
   "metadata": {
    "id": "rgB62McVMa0y"
   },
   "source": [
    "# Zapis i odczyt"
   ]
  },
  {
   "cell_type": "markdown",
   "metadata": {
    "id": "5UIEBy7XMa0y"
   },
   "source": [
    "## Do / z pliku"
   ]
  },
  {
   "cell_type": "markdown",
   "metadata": {
    "id": "KhWqZyJSMa0y"
   },
   "source": [
    "### Tryby otwierania pliku\n",
    "\n",
    "Python ma kilka trybów otwarcia plików\n",
    "\n",
    "- **`r`** domyslny, otwieranie do odczytu\n",
    "- **`w`** otwieranie do zapisu (plik tworzony gdy nie istnieje, plik nadpisywany gdy istnieje)\n",
    "- **`x`** tworzy nowy plik (gdy plik istnieje funkcja zwraca bład)\n",
    "- **`a`** tryb dodawania zawartosci (plik tworzony gdy nie istnieje)\n",
    "- **`+`** otwarcie do zapisu i odczytu\n",
    "\n",
    "Tryb zapisu i odczytu danych\n",
    "- **`t`** domyslny, tryb tekstowy\n",
    "- **`b`** tryb binarny"
   ]
  },
  {
   "cell_type": "code",
   "execution_count": 4,
   "metadata": {
    "executionInfo": {
     "elapsed": 377,
     "status": "ok",
     "timestamp": 1627920420060,
     "user": {
      "displayName": "Mateusz Zimoch",
      "photoUrl": "https://lh3.googleusercontent.com/a-/AOh14GhLKHKJhMI_pTIoYkcl8z-E-V849Je8P3XxEzn2DQ=s64",
      "userId": "02738966002905530559"
     },
     "user_tz": -120
    },
    "id": "Ny-wCzQdMa0z"
   },
   "outputs": [],
   "source": [
    "plik = open(\"plik_nowy.txt\", \"w\")\n",
    "plik.write(\"nowy text\")\n",
    "plik.close()"
   ]
  },
  {
   "cell_type": "code",
   "execution_count": 5,
   "metadata": {
    "executionInfo": {
     "elapsed": 66,
     "status": "ok",
     "timestamp": 1627920420064,
     "user": {
      "displayName": "Mateusz Zimoch",
      "photoUrl": "https://lh3.googleusercontent.com/a-/AOh14GhLKHKJhMI_pTIoYkcl8z-E-V849Je8P3XxEzn2DQ=s64",
      "userId": "02738966002905530559"
     },
     "user_tz": -120
    },
    "id": "5FwtDvlm4U2_"
   },
   "outputs": [],
   "source": [
    "plik = open(\"plik_nowy.txt\", \"a\")\n",
    "plik.write(\"\\nnowy tekst 15\")\n",
    "plik.close()"
   ]
  },
  {
   "cell_type": "code",
   "execution_count": 6,
   "metadata": {
    "colab": {
     "base_uri": "https://localhost:8080/"
    },
    "executionInfo": {
     "elapsed": 65,
     "status": "ok",
     "timestamp": 1627920420068,
     "user": {
      "displayName": "Mateusz Zimoch",
      "photoUrl": "https://lh3.googleusercontent.com/a-/AOh14GhLKHKJhMI_pTIoYkcl8z-E-V849Je8P3XxEzn2DQ=s64",
      "userId": "02738966002905530559"
     },
     "user_tz": -120
    },
    "id": "Khb92ckb4WTI",
    "outputId": "3d442228-fcf5-467f-a2db-999888f91d28"
   },
   "outputs": [
    {
     "name": "stdout",
     "output_type": "stream",
     "text": [
      "nowy text\n",
      "nowy tekst 15\n"
     ]
    }
   ],
   "source": [
    "plik = open(\"plik_nowy.txt\", \"r\")\n",
    "print(plik.read())\n",
    "plik.close()"
   ]
  },
  {
   "cell_type": "code",
   "execution_count": 7,
   "metadata": {
    "executionInfo": {
     "elapsed": 54,
     "status": "ok",
     "timestamp": 1627920420075,
     "user": {
      "displayName": "Mateusz Zimoch",
      "photoUrl": "https://lh3.googleusercontent.com/a-/AOh14GhLKHKJhMI_pTIoYkcl8z-E-V849Je8P3XxEzn2DQ=s64",
      "userId": "02738966002905530559"
     },
     "user_tz": -120
    },
    "id": "iV8bEuaRMa0z"
   },
   "outputs": [],
   "source": [
    "with open(\"plik_nowy2.txt\", \"w\") as plik:\n",
    "    plik.write(\"nowy text2\\n\")"
   ]
  },
  {
   "cell_type": "code",
   "execution_count": 8,
   "metadata": {},
   "outputs": [
    {
     "name": "stdout",
     "output_type": "stream",
     "text": [
      "nowy text2\n",
      "\n"
     ]
    }
   ],
   "source": [
    "with open(\"plik_nowy2.txt\") as plik:\n",
    "    print(plik.read())"
   ]
  },
  {
   "cell_type": "code",
   "execution_count": 9,
   "metadata": {},
   "outputs": [],
   "source": [
    "with open(\"plik_nowy2.txt\", \"a\") as plik:\n",
    "    plik.write(\"nowy text 15\\n\")\n",
    "    plik.write(\"nowy text 17\\n\")\n",
    "    plik.write(\"nowy text 12\\n\")"
   ]
  },
  {
   "cell_type": "code",
   "execution_count": 10,
   "metadata": {},
   "outputs": [
    {
     "name": "stdout",
     "output_type": "stream",
     "text": [
      "nowy text2\n",
      "nowy text 15\n",
      "nowy text 17\n",
      "nowy text 12\n",
      "\n"
     ]
    }
   ],
   "source": [
    "with open(\"plik_nowy2.txt\") as plik:\n",
    "    print(plik.read())"
   ]
  },
  {
   "cell_type": "code",
   "execution_count": 9,
   "metadata": {},
   "outputs": [
    {
     "name": "stdout",
     "output_type": "stream",
     "text": [
      "['nowy text2\\n', 'nowy text 15\\n', 'nowy text 17\\n', 'nowy text 12\\n']\n"
     ]
    }
   ],
   "source": [
    "with open(\"plik_nowy2.txt\") as plik:\n",
    "    print(plik.readlines())"
   ]
  },
  {
   "cell_type": "code",
   "execution_count": 12,
   "metadata": {},
   "outputs": [
    {
     "name": "stdout",
     "output_type": "stream",
     "text": [
      "nowy text2\n",
      "\n",
      "nowy text 15\n",
      "\n",
      "nowy text 17\n",
      "\n",
      "nowy text 12\n",
      "\n"
     ]
    }
   ],
   "source": [
    "with open(\"plik_nowy2.txt\") as plik:\n",
    "    for line in plik.readlines():\n",
    "        print(line)"
   ]
  },
  {
   "cell_type": "code",
   "execution_count": 16,
   "metadata": {},
   "outputs": [
    {
     "name": "stdout",
     "output_type": "stream",
     "text": [
      "['animal', 'uniq_id', 'water_need', 'age\\n']\n",
      "['elephant', '1001', '500', '5\\n']\n",
      "['elephant', '1002', '600', '6\\n']\n",
      "['elephant', '1003', '550', '4\\n']\n",
      "['tiger', '1004', '300', '7\\n']\n",
      "['tiger', '1005', '320', '8\\n']\n",
      "['tiger', '1006', '330', '3\\n']\n",
      "['tiger', '1007', '290', '10\\n']\n",
      "['tiger', '1008', '310', '4\\n']\n",
      "['zebra', '1009', '200', '5\\n']\n",
      "['zebra', '1010', '220', '11\\n']\n",
      "['zebra', '1011', '240', '9\\n']\n",
      "['zebra', '1012', '230', '10\\n']\n",
      "['zebra', '1013', '220', '15\\n']\n",
      "['zebra', '1014', '100', '10\\n']\n",
      "['zebra', '1015', '80', '10\\n']\n",
      "['lion', '1016', '420', '10\\n']\n",
      "['lion', '1017', '600', '10\\n']\n",
      "['lion', '1018', '500', '11\\n']\n",
      "['lion', '1019', '390', '11\\n']\n",
      "['kangaroo', '1020', '410', '12\\n']\n",
      "['kangaroo', '1021', '430', '11\\n']\n",
      "['kangaroo', '1022', '410', '12']\n"
     ]
    }
   ],
   "source": [
    "with open(\"zwierzeta.csv\") as plik:\n",
    "#     print(plik.read())\n",
    "    for line in plik.readlines():\n",
    "        print(line.split(\",\"))"
   ]
  },
  {
   "cell_type": "code",
   "execution_count": 17,
   "metadata": {},
   "outputs": [
    {
     "data": {
      "text/html": [
       "<div>\n",
       "<style scoped>\n",
       "    .dataframe tbody tr th:only-of-type {\n",
       "        vertical-align: middle;\n",
       "    }\n",
       "\n",
       "    .dataframe tbody tr th {\n",
       "        vertical-align: top;\n",
       "    }\n",
       "\n",
       "    .dataframe thead th {\n",
       "        text-align: right;\n",
       "    }\n",
       "</style>\n",
       "<table border=\"1\" class=\"dataframe\">\n",
       "  <thead>\n",
       "    <tr style=\"text-align: right;\">\n",
       "      <th></th>\n",
       "      <th>animal</th>\n",
       "      <th>uniq_id</th>\n",
       "      <th>water_need</th>\n",
       "      <th>age</th>\n",
       "    </tr>\n",
       "  </thead>\n",
       "  <tbody>\n",
       "    <tr>\n",
       "      <th>0</th>\n",
       "      <td>elephant</td>\n",
       "      <td>1001</td>\n",
       "      <td>500</td>\n",
       "      <td>5</td>\n",
       "    </tr>\n",
       "    <tr>\n",
       "      <th>1</th>\n",
       "      <td>elephant</td>\n",
       "      <td>1002</td>\n",
       "      <td>600</td>\n",
       "      <td>6</td>\n",
       "    </tr>\n",
       "    <tr>\n",
       "      <th>2</th>\n",
       "      <td>elephant</td>\n",
       "      <td>1003</td>\n",
       "      <td>550</td>\n",
       "      <td>4</td>\n",
       "    </tr>\n",
       "    <tr>\n",
       "      <th>3</th>\n",
       "      <td>tiger</td>\n",
       "      <td>1004</td>\n",
       "      <td>300</td>\n",
       "      <td>7</td>\n",
       "    </tr>\n",
       "    <tr>\n",
       "      <th>4</th>\n",
       "      <td>tiger</td>\n",
       "      <td>1005</td>\n",
       "      <td>320</td>\n",
       "      <td>8</td>\n",
       "    </tr>\n",
       "    <tr>\n",
       "      <th>5</th>\n",
       "      <td>tiger</td>\n",
       "      <td>1006</td>\n",
       "      <td>330</td>\n",
       "      <td>3</td>\n",
       "    </tr>\n",
       "    <tr>\n",
       "      <th>6</th>\n",
       "      <td>tiger</td>\n",
       "      <td>1007</td>\n",
       "      <td>290</td>\n",
       "      <td>10</td>\n",
       "    </tr>\n",
       "    <tr>\n",
       "      <th>7</th>\n",
       "      <td>tiger</td>\n",
       "      <td>1008</td>\n",
       "      <td>310</td>\n",
       "      <td>4</td>\n",
       "    </tr>\n",
       "    <tr>\n",
       "      <th>8</th>\n",
       "      <td>zebra</td>\n",
       "      <td>1009</td>\n",
       "      <td>200</td>\n",
       "      <td>5</td>\n",
       "    </tr>\n",
       "    <tr>\n",
       "      <th>9</th>\n",
       "      <td>zebra</td>\n",
       "      <td>1010</td>\n",
       "      <td>220</td>\n",
       "      <td>11</td>\n",
       "    </tr>\n",
       "    <tr>\n",
       "      <th>10</th>\n",
       "      <td>zebra</td>\n",
       "      <td>1011</td>\n",
       "      <td>240</td>\n",
       "      <td>9</td>\n",
       "    </tr>\n",
       "    <tr>\n",
       "      <th>11</th>\n",
       "      <td>zebra</td>\n",
       "      <td>1012</td>\n",
       "      <td>230</td>\n",
       "      <td>10</td>\n",
       "    </tr>\n",
       "    <tr>\n",
       "      <th>12</th>\n",
       "      <td>zebra</td>\n",
       "      <td>1013</td>\n",
       "      <td>220</td>\n",
       "      <td>15</td>\n",
       "    </tr>\n",
       "    <tr>\n",
       "      <th>13</th>\n",
       "      <td>zebra</td>\n",
       "      <td>1014</td>\n",
       "      <td>100</td>\n",
       "      <td>10</td>\n",
       "    </tr>\n",
       "    <tr>\n",
       "      <th>14</th>\n",
       "      <td>zebra</td>\n",
       "      <td>1015</td>\n",
       "      <td>80</td>\n",
       "      <td>10</td>\n",
       "    </tr>\n",
       "    <tr>\n",
       "      <th>15</th>\n",
       "      <td>lion</td>\n",
       "      <td>1016</td>\n",
       "      <td>420</td>\n",
       "      <td>10</td>\n",
       "    </tr>\n",
       "    <tr>\n",
       "      <th>16</th>\n",
       "      <td>lion</td>\n",
       "      <td>1017</td>\n",
       "      <td>600</td>\n",
       "      <td>10</td>\n",
       "    </tr>\n",
       "    <tr>\n",
       "      <th>17</th>\n",
       "      <td>lion</td>\n",
       "      <td>1018</td>\n",
       "      <td>500</td>\n",
       "      <td>11</td>\n",
       "    </tr>\n",
       "    <tr>\n",
       "      <th>18</th>\n",
       "      <td>lion</td>\n",
       "      <td>1019</td>\n",
       "      <td>390</td>\n",
       "      <td>11</td>\n",
       "    </tr>\n",
       "    <tr>\n",
       "      <th>19</th>\n",
       "      <td>kangaroo</td>\n",
       "      <td>1020</td>\n",
       "      <td>410</td>\n",
       "      <td>12</td>\n",
       "    </tr>\n",
       "    <tr>\n",
       "      <th>20</th>\n",
       "      <td>kangaroo</td>\n",
       "      <td>1021</td>\n",
       "      <td>430</td>\n",
       "      <td>11</td>\n",
       "    </tr>\n",
       "    <tr>\n",
       "      <th>21</th>\n",
       "      <td>kangaroo</td>\n",
       "      <td>1022</td>\n",
       "      <td>410</td>\n",
       "      <td>12</td>\n",
       "    </tr>\n",
       "  </tbody>\n",
       "</table>\n",
       "</div>"
      ],
      "text/plain": [
       "      animal  uniq_id  water_need  age\n",
       "0   elephant     1001         500    5\n",
       "1   elephant     1002         600    6\n",
       "2   elephant     1003         550    4\n",
       "3      tiger     1004         300    7\n",
       "4      tiger     1005         320    8\n",
       "5      tiger     1006         330    3\n",
       "6      tiger     1007         290   10\n",
       "7      tiger     1008         310    4\n",
       "8      zebra     1009         200    5\n",
       "9      zebra     1010         220   11\n",
       "10     zebra     1011         240    9\n",
       "11     zebra     1012         230   10\n",
       "12     zebra     1013         220   15\n",
       "13     zebra     1014         100   10\n",
       "14     zebra     1015          80   10\n",
       "15      lion     1016         420   10\n",
       "16      lion     1017         600   10\n",
       "17      lion     1018         500   11\n",
       "18      lion     1019         390   11\n",
       "19  kangaroo     1020         410   12\n",
       "20  kangaroo     1021         430   11\n",
       "21  kangaroo     1022         410   12"
      ]
     },
     "execution_count": 17,
     "metadata": {},
     "output_type": "execute_result"
    }
   ],
   "source": [
    "import pandas as pd\n",
    "\n",
    "df = pd.read_csv(\"zwierzeta.csv\")\n",
    "df"
   ]
  },
  {
   "cell_type": "code",
   "execution_count": 71,
   "metadata": {},
   "outputs": [
    {
     "data": {
      "text/plain": [
       "pandas.core.frame.DataFrame"
      ]
     },
     "execution_count": 71,
     "metadata": {},
     "output_type": "execute_result"
    }
   ],
   "source": [
    "type(df)"
   ]
  },
  {
   "cell_type": "code",
   "execution_count": null,
   "metadata": {},
   "outputs": [],
   "source": [
    "df."
   ]
  },
  {
   "cell_type": "markdown",
   "metadata": {},
   "source": [
    "## lambda"
   ]
  },
  {
   "cell_type": "code",
   "execution_count": null,
   "metadata": {},
   "outputs": [],
   "source": [
    "def nazwa_funkcji(argumenty):\n",
    "    ciało_funkcji\n",
    "    return wartosc"
   ]
  },
  {
   "cell_type": "code",
   "execution_count": 18,
   "metadata": {},
   "outputs": [],
   "source": [
    "def dwukrotnosc_v2(x):\n",
    "    return 2 * x"
   ]
  },
  {
   "cell_type": "code",
   "execution_count": 20,
   "metadata": {},
   "outputs": [
    {
     "data": {
      "text/plain": [
       "14"
      ]
     },
     "execution_count": 20,
     "metadata": {},
     "output_type": "execute_result"
    }
   ],
   "source": [
    "dwukrotnosc_v2(7)"
   ]
  },
  {
   "cell_type": "code",
   "execution_count": 19,
   "metadata": {},
   "outputs": [
    {
     "data": {
      "text/plain": [
       "12"
      ]
     },
     "execution_count": 19,
     "metadata": {},
     "output_type": "execute_result"
    }
   ],
   "source": [
    "\"\"\"\n",
    "def nazwa_funkcji(argumenty):\n",
    "    ciało_funkcji\n",
    "    return wartosc\n",
    "\"\"\"\n",
    "\n",
    "# lambda argument: ciało_funkcji(zwracane)\n",
    "\n",
    "dwukrotnosc = lambda x: 2 * x\n",
    "\n",
    "dwukrotnosc(6)"
   ]
  },
  {
   "cell_type": "code",
   "execution_count": 12,
   "metadata": {},
   "outputs": [
    {
     "data": {
      "text/plain": [
       "0.03806228373702422"
      ]
     },
     "execution_count": 12,
     "metadata": {},
     "output_type": "execute_result"
    }
   ],
   "source": [
    "inna_funkcja = lambda a, b: a / b**2\n",
    "inna_funkcja(11, 17)"
   ]
  },
  {
   "cell_type": "markdown",
   "metadata": {
    "id": "ZTkTj9VQMa00"
   },
   "source": [
    "# Klasy w Pythonie"
   ]
  },
  {
   "cell_type": "code",
   "execution_count": 20,
   "metadata": {
    "executionInfo": {
     "elapsed": 250,
     "status": "ok",
     "timestamp": 1627921633547,
     "user": {
      "displayName": "Mateusz Zimoch",
      "photoUrl": "https://lh3.googleusercontent.com/a-/AOh14GhLKHKJhMI_pTIoYkcl8z-E-V849Je8P3XxEzn2DQ=s64",
      "userId": "02738966002905530559"
     },
     "user_tz": -120
    },
    "id": "B2iaYSlaMa00"
   },
   "outputs": [],
   "source": [
    "# class NazwaKlasy():\n",
    "#   wewnątrz klasy\n",
    "#   def __init__(self):\n",
    "#       #konstruktor\n",
    "\n",
    "\n",
    "class Klasa:\n",
    "    # atrybuty klasy\n",
    "    zmienna_1_klasy = 1\n",
    "    zmienna_2_klasy = 2\n",
    "\n",
    "    def __init__(self, wartosc_zmiennej1, wartosc_zmiennej2=5):  # <- konstruktor\n",
    "        # atrybuty obiektow\n",
    "        self.zmienna_1 = wartosc_zmiennej1\n",
    "        self.zmienna_2 = wartosc_zmiennej2\n",
    "\n",
    "    def dodawanie(self):\n",
    "        print(\"to jest dodawanie\")\n",
    "        return self.zmienna_1 + self.zmienna_2\n",
    "\n",
    "    def odejmowanie(self):\n",
    "        print(\"to jest odejmowanie\")\n",
    "        return self.zmienna_1 - self.zmienna_2\n",
    "\n",
    "    def funkcja(self):\n",
    "        print(\"jakis tekst\")"
   ]
  },
  {
   "cell_type": "code",
   "execution_count": 26,
   "metadata": {
    "colab": {
     "base_uri": "https://localhost:8080/"
    },
    "executionInfo": {
     "elapsed": 244,
     "status": "ok",
     "timestamp": 1627921677469,
     "user": {
      "displayName": "Mateusz Zimoch",
      "photoUrl": "https://lh3.googleusercontent.com/a-/AOh14GhLKHKJhMI_pTIoYkcl8z-E-V849Je8P3XxEzn2DQ=s64",
      "userId": "02738966002905530559"
     },
     "user_tz": -120
    },
    "id": "m0RB6ETTMa00",
    "outputId": "e8be64a0-fc4d-455e-a634-dc7e82ad0a17"
   },
   "outputs": [
    {
     "name": "stdout",
     "output_type": "stream",
     "text": [
      "<__main__.Klasa object at 0x111353aa0>\n"
     ]
    }
   ],
   "source": [
    "obiekt = Klasa(23, 10)\n",
    "print(obiekt)"
   ]
  },
  {
   "cell_type": "code",
   "execution_count": 27,
   "metadata": {},
   "outputs": [
    {
     "data": {
      "text/plain": [
       "10"
      ]
     },
     "execution_count": 27,
     "metadata": {},
     "output_type": "execute_result"
    }
   ],
   "source": [
    "obiekt."
   ]
  },
  {
   "cell_type": "code",
   "execution_count": 28,
   "metadata": {},
   "outputs": [
    {
     "data": {
      "text/plain": [
       "<__main__.Klasa at 0x11131f050>"
      ]
     },
     "execution_count": 28,
     "metadata": {},
     "output_type": "execute_result"
    }
   ],
   "source": [
    "obiekt1 = Klasa(30, 17)\n",
    "obiekt1"
   ]
  },
  {
   "cell_type": "code",
   "execution_count": null,
   "metadata": {},
   "outputs": [],
   "source": [
    "obiekt1."
   ]
  },
  {
   "cell_type": "code",
   "execution_count": 35,
   "metadata": {},
   "outputs": [
    {
     "name": "stdout",
     "output_type": "stream",
     "text": [
      "to jest dodawanie\n"
     ]
    },
    {
     "data": {
      "text/plain": [
       "117"
      ]
     },
     "execution_count": 35,
     "metadata": {},
     "output_type": "execute_result"
    }
   ],
   "source": [
    "obiekt1.dodawanie()"
   ]
  },
  {
   "cell_type": "code",
   "execution_count": 31,
   "metadata": {},
   "outputs": [
    {
     "name": "stdout",
     "output_type": "stream",
     "text": [
      "to jest odejmowanie\n"
     ]
    },
    {
     "data": {
      "text/plain": [
       "13"
      ]
     },
     "execution_count": 31,
     "metadata": {},
     "output_type": "execute_result"
    }
   ],
   "source": [
    "obiekt1.odejmowanie()"
   ]
  },
  {
   "cell_type": "code",
   "execution_count": 32,
   "metadata": {},
   "outputs": [
    {
     "name": "stdout",
     "output_type": "stream",
     "text": [
      "jakis tekst\n"
     ]
    }
   ],
   "source": [
    "obiekt1.funkcja()"
   ]
  },
  {
   "cell_type": "code",
   "execution_count": 20,
   "metadata": {
    "colab": {
     "base_uri": "https://localhost:8080/"
    },
    "executionInfo": {
     "elapsed": 243,
     "status": "ok",
     "timestamp": 1627921866590,
     "user": {
      "displayName": "Mateusz Zimoch",
      "photoUrl": "https://lh3.googleusercontent.com/a-/AOh14GhLKHKJhMI_pTIoYkcl8z-E-V849Je8P3XxEzn2DQ=s64",
      "userId": "02738966002905530559"
     },
     "user_tz": -120
    },
    "id": "bVr5yZWPMa00",
    "outputId": "2fb51ed0-55be-4a42-82f0-38c0e2dbe6da"
   },
   "outputs": [
    {
     "data": {
      "text/plain": [
       "23"
      ]
     },
     "execution_count": 20,
     "metadata": {},
     "output_type": "execute_result"
    }
   ],
   "source": [
    "obiekt.zmienna_1"
   ]
  },
  {
   "cell_type": "code",
   "execution_count": 21,
   "metadata": {
    "colab": {
     "base_uri": "https://localhost:8080/"
    },
    "executionInfo": {
     "elapsed": 18,
     "status": "ok",
     "timestamp": 1627921868604,
     "user": {
      "displayName": "Mateusz Zimoch",
      "photoUrl": "https://lh3.googleusercontent.com/a-/AOh14GhLKHKJhMI_pTIoYkcl8z-E-V849Je8P3XxEzn2DQ=s64",
      "userId": "02738966002905530559"
     },
     "user_tz": -120
    },
    "id": "TV1D7t2-rITa",
    "outputId": "7bd96795-d1f9-4a61-c62a-e1bb391d94d9"
   },
   "outputs": [
    {
     "data": {
      "text/plain": [
       "10"
      ]
     },
     "execution_count": 21,
     "metadata": {},
     "output_type": "execute_result"
    }
   ],
   "source": [
    "obiekt.zmienna_2"
   ]
  },
  {
   "cell_type": "code",
   "execution_count": 36,
   "metadata": {},
   "outputs": [
    {
     "data": {
      "text/plain": [
       "['__class__',\n",
       " '__delattr__',\n",
       " '__dict__',\n",
       " '__dir__',\n",
       " '__doc__',\n",
       " '__eq__',\n",
       " '__format__',\n",
       " '__ge__',\n",
       " '__getattribute__',\n",
       " '__getstate__',\n",
       " '__gt__',\n",
       " '__hash__',\n",
       " '__init__',\n",
       " '__init_subclass__',\n",
       " '__le__',\n",
       " '__lt__',\n",
       " '__module__',\n",
       " '__ne__',\n",
       " '__new__',\n",
       " '__reduce__',\n",
       " '__reduce_ex__',\n",
       " '__repr__',\n",
       " '__setattr__',\n",
       " '__sizeof__',\n",
       " '__str__',\n",
       " '__subclasshook__',\n",
       " '__weakref__',\n",
       " 'dodawanie',\n",
       " 'funkcja',\n",
       " 'odejmowanie',\n",
       " 'zmienna_1',\n",
       " 'zmienna_1_klasy',\n",
       " 'zmienna_2',\n",
       " 'zmienna_2_klasy']"
      ]
     },
     "execution_count": 36,
     "metadata": {},
     "output_type": "execute_result"
    }
   ],
   "source": [
    "dir(obiekt1)"
   ]
  },
  {
   "cell_type": "markdown",
   "metadata": {
    "id": "8dCqMFqZMa01"
   },
   "source": [
    "## Własciwosci i metody obiektów w Pythonie\n",
    "\n",
    "Różne typy obiektów w Pythonie maja różne atrybuty, które moga byc wywołane za pomoca ich nazw.\n",
    "Wywołanie atrybutu w Pythonie realizowane jest poprzez kropkę `.`\n",
    "Jeżeli atrybut jest wykonywalny, nazywany jest metoda.\n",
    "\n",
    "Funkcja wbudowana `dir()` może byc użyta do zwrócenia listy atrybutów danego obiektu."
   ]
  },
  {
   "cell_type": "code",
   "execution_count": 56,
   "metadata": {
    "executionInfo": {
     "elapsed": 245,
     "status": "ok",
     "timestamp": 1627922155001,
     "user": {
      "displayName": "Mateusz Zimoch",
      "photoUrl": "https://lh3.googleusercontent.com/a-/AOh14GhLKHKJhMI_pTIoYkcl8z-E-V849Je8P3XxEzn2DQ=s64",
      "userId": "02738966002905530559"
     },
     "user_tz": -120
    },
    "id": "yS0dIghgMa02"
   },
   "outputs": [],
   "source": [
    "class Kalkulator:\n",
    "    def __init__(self, a, b):\n",
    "        self.a = a\n",
    "        self.b = b\n",
    "\n",
    "    def dodawanie(self):\n",
    "        return self.a + self.b\n",
    "\n",
    "    def odejmowanie(self):\n",
    "        return self.a - self.b\n",
    "\n",
    "    def mnozenie(self):\n",
    "        return self.a * self.b\n",
    "\n",
    "    def dzielenie(self):\n",
    "        \"\"\"\n",
    "        dzielimy pierwsza przez druga\n",
    "        \"\"\"\n",
    "        return self.a / self.b\n",
    "\n",
    "    # def modulo(self):\n",
    "    #     return self.a % self.b\n",
    "\n",
    "    # def dzielenie_calkowite(self):\n",
    "    #     return self.a // self.b"
   ]
  },
  {
   "cell_type": "code",
   "execution_count": 57,
   "metadata": {
    "colab": {
     "base_uri": "https://localhost:8080/"
    },
    "executionInfo": {
     "elapsed": 284,
     "status": "ok",
     "timestamp": 1627922205326,
     "user": {
      "displayName": "Mateusz Zimoch",
      "photoUrl": "https://lh3.googleusercontent.com/a-/AOh14GhLKHKJhMI_pTIoYkcl8z-E-V849Je8P3XxEzn2DQ=s64",
      "userId": "02738966002905530559"
     },
     "user_tz": -120
    },
    "id": "ZlTVw5IrMa02",
    "outputId": "017512a8-c6d3-429c-f271-c8967ddb927f"
   },
   "outputs": [
    {
     "name": "stdout",
     "output_type": "stream",
     "text": [
      "22\n",
      "12\n"
     ]
    }
   ],
   "source": [
    "kalk = Kalkulator(17, 5)\n",
    "print(kalk.dodawanie())\n",
    "print(kalk.odejmowanie())"
   ]
  },
  {
   "cell_type": "code",
   "execution_count": 49,
   "metadata": {},
   "outputs": [
    {
     "name": "stdout",
     "output_type": "stream",
     "text": [
      "85\n",
      "3.4\n"
     ]
    }
   ],
   "source": [
    "print(kalk.mnozenie())\n",
    "print(kalk.dzielenie())"
   ]
  },
  {
   "cell_type": "code",
   "execution_count": 50,
   "metadata": {},
   "outputs": [
    {
     "data": {
      "text/plain": [
       "2"
      ]
     },
     "execution_count": 50,
     "metadata": {},
     "output_type": "execute_result"
    }
   ],
   "source": [
    "# kalk.modulo()"
   ]
  },
  {
   "cell_type": "code",
   "execution_count": 58,
   "metadata": {},
   "outputs": [
    {
     "data": {
      "text/plain": [
       "3"
      ]
     },
     "execution_count": 58,
     "metadata": {},
     "output_type": "execute_result"
    }
   ],
   "source": [
    "# kalk.dzielenie_calkowite()"
   ]
  },
  {
   "cell_type": "markdown",
   "metadata": {
    "id": "DY-iVevpMa02"
   },
   "source": [
    "## Dziedziczenie i hierarchie klas w Pythonie\n",
    "\n",
    "W Pythonie możemy wprowadzac hierarchię klas, w postaci klas bazowych i klas potomnych.\n",
    "Pomaga to w ujednolicaniu interfejsu (atrybutów i metod) poszczególnych klas."
   ]
  },
  {
   "cell_type": "code",
   "execution_count": 59,
   "metadata": {
    "executionInfo": {
     "elapsed": 285,
     "status": "ok",
     "timestamp": 1627923206663,
     "user": {
      "displayName": "Mateusz Zimoch",
      "photoUrl": "https://lh3.googleusercontent.com/a-/AOh14GhLKHKJhMI_pTIoYkcl8z-E-V849Je8P3XxEzn2DQ=s64",
      "userId": "02738966002905530559"
     },
     "user_tz": -120
    },
    "id": "bbJvlIbBMa02"
   },
   "outputs": [],
   "source": [
    "class Bazowa:\n",
    "    def __init__(self, param1):\n",
    "        print(\"wywolanie funkcji __init__ z klasy bazowej\")\n",
    "        self.param1 = param1\n",
    "\n",
    "    def wyswietl_param1(self):\n",
    "        print(f\"wartosc param1: {self.param1}\")"
   ]
  },
  {
   "cell_type": "code",
   "execution_count": 60,
   "metadata": {
    "colab": {
     "base_uri": "https://localhost:8080/"
    },
    "executionInfo": {
     "elapsed": 344,
     "status": "ok",
     "timestamp": 1627923209105,
     "user": {
      "displayName": "Mateusz Zimoch",
      "photoUrl": "https://lh3.googleusercontent.com/a-/AOh14GhLKHKJhMI_pTIoYkcl8z-E-V849Je8P3XxEzn2DQ=s64",
      "userId": "02738966002905530559"
     },
     "user_tz": -120
    },
    "id": "q4VBiGRiw6CD",
    "outputId": "23f6427f-4511-43cd-e905-13744c294d5b"
   },
   "outputs": [
    {
     "name": "stdout",
     "output_type": "stream",
     "text": [
      "wywolanie funkcji __init__ z klasy bazowej\n",
      "\n",
      "wartosc param1: 15\n"
     ]
    },
    {
     "data": {
      "text/plain": [
       "15"
      ]
     },
     "execution_count": 60,
     "metadata": {},
     "output_type": "execute_result"
    }
   ],
   "source": [
    "obiekt = Bazowa(15)\n",
    "print()\n",
    "obiekt.wyswietl_param1()\n",
    "obiekt.param1"
   ]
  },
  {
   "cell_type": "code",
   "execution_count": 61,
   "metadata": {
    "executionInfo": {
     "elapsed": 263,
     "status": "ok",
     "timestamp": 1627922716632,
     "user": {
      "displayName": "Mateusz Zimoch",
      "photoUrl": "https://lh3.googleusercontent.com/a-/AOh14GhLKHKJhMI_pTIoYkcl8z-E-V849Je8P3XxEzn2DQ=s64",
      "userId": "02738966002905530559"
     },
     "user_tz": -120
    },
    "id": "r39MpXE7Ma02"
   },
   "outputs": [],
   "source": [
    "class Pochodna(Bazowa):\n",
    "    def __init__(self, param1, param2):\n",
    "        super().__init__(param1) # super() - odwolujemy sie do metody klasy bazowej, zeby ja wykonac\n",
    "        print(\"wywolanie funkcji __init__ z klasy pochodnej\")\n",
    "        self.param2 = param2\n",
    "\n",
    "    def wyswietl_param2(self):\n",
    "        print(f\"Param2: {self.param2}\")"
   ]
  },
  {
   "cell_type": "code",
   "execution_count": 62,
   "metadata": {
    "colab": {
     "base_uri": "https://localhost:8080/"
    },
    "executionInfo": {
     "elapsed": 299,
     "status": "ok",
     "timestamp": 1627922754729,
     "user": {
      "displayName": "Mateusz Zimoch",
      "photoUrl": "https://lh3.googleusercontent.com/a-/AOh14GhLKHKJhMI_pTIoYkcl8z-E-V849Je8P3XxEzn2DQ=s64",
      "userId": "02738966002905530559"
     },
     "user_tz": -120
    },
    "id": "T4bLcRD0Ma03",
    "outputId": "05b3d2f9-17e9-4581-e475-5d68dfcc14bd"
   },
   "outputs": [
    {
     "name": "stdout",
     "output_type": "stream",
     "text": [
      "wywolanie funkcji __init__ z klasy bazowej\n",
      "wywolanie funkcji __init__ z klasy pochodnej\n"
     ]
    },
    {
     "data": {
      "text/plain": [
       "'wartosc2'"
      ]
     },
     "execution_count": 62,
     "metadata": {},
     "output_type": "execute_result"
    }
   ],
   "source": [
    "pochodna = Pochodna(\"wartosc1\", \"wartosc2\")\n",
    "pochodna.param2"
   ]
  },
  {
   "cell_type": "code",
   "execution_count": 63,
   "metadata": {},
   "outputs": [
    {
     "data": {
      "text/plain": [
       "'wartosc1'"
      ]
     },
     "execution_count": 63,
     "metadata": {},
     "output_type": "execute_result"
    }
   ],
   "source": [
    "pochodna.param1"
   ]
  },
  {
   "cell_type": "code",
   "execution_count": 64,
   "metadata": {},
   "outputs": [
    {
     "name": "stdout",
     "output_type": "stream",
     "text": [
      "wartosc param1: wartosc1\n",
      "Param2: wartosc2\n"
     ]
    }
   ],
   "source": [
    "pochodna.wyswietl_param1()\n",
    "pochodna.wyswietl_param2()"
   ]
  },
  {
   "cell_type": "code",
   "execution_count": 65,
   "metadata": {
    "colab": {
     "base_uri": "https://localhost:8080/"
    },
    "executionInfo": {
     "elapsed": 296,
     "status": "ok",
     "timestamp": 1627922772655,
     "user": {
      "displayName": "Mateusz Zimoch",
      "photoUrl": "https://lh3.googleusercontent.com/a-/AOh14GhLKHKJhMI_pTIoYkcl8z-E-V849Je8P3XxEzn2DQ=s64",
      "userId": "02738966002905530559"
     },
     "user_tz": -120
    },
    "id": "qO2m0BpVMa03",
    "outputId": "a230f18e-3ffd-42d0-8841-30b9db173c78"
   },
   "outputs": [
    {
     "name": "stdout",
     "output_type": "stream",
     "text": [
      "wywolanie funkcji __init__ z klasy bazowej\n",
      "wartosc param1: 5\n"
     ]
    }
   ],
   "source": [
    "bazowa = Bazowa(5)\n",
    "bazowa.wyswietl_param1()"
   ]
  },
  {
   "cell_type": "code",
   "execution_count": 66,
   "metadata": {
    "id": "Otj4_E79Ma03"
   },
   "outputs": [
    {
     "ename": "AttributeError",
     "evalue": "'Bazowa' object has no attribute 'wyswietl_param2'",
     "output_type": "error",
     "traceback": [
      "\u001b[0;31m---------------------------------------------------------------------------\u001b[0m",
      "\u001b[0;31mAttributeError\u001b[0m                            Traceback (most recent call last)",
      "Cell \u001b[0;32mIn[66], line 1\u001b[0m\n\u001b[0;32m----> 1\u001b[0m \u001b[43mbazowa\u001b[49m\u001b[38;5;241;43m.\u001b[39;49m\u001b[43mwyswietl_param2\u001b[49m()\n",
      "\u001b[0;31mAttributeError\u001b[0m: 'Bazowa' object has no attribute 'wyswietl_param2'"
     ]
    }
   ],
   "source": [
    "bazowa.wyswietl_param2()"
   ]
  },
  {
   "cell_type": "code",
   "execution_count": 43,
   "metadata": {},
   "outputs": [
    {
     "data": {
      "text/plain": [
       "['__class__',\n",
       " '__delattr__',\n",
       " '__dict__',\n",
       " '__dir__',\n",
       " '__doc__',\n",
       " '__eq__',\n",
       " '__format__',\n",
       " '__ge__',\n",
       " '__getattribute__',\n",
       " '__gt__',\n",
       " '__hash__',\n",
       " '__init__',\n",
       " '__init_subclass__',\n",
       " '__le__',\n",
       " '__lt__',\n",
       " '__module__',\n",
       " '__ne__',\n",
       " '__new__',\n",
       " '__reduce__',\n",
       " '__reduce_ex__',\n",
       " '__repr__',\n",
       " '__setattr__',\n",
       " '__sizeof__',\n",
       " '__str__',\n",
       " '__subclasshook__',\n",
       " '__weakref__',\n",
       " 'wyswietl_param1']"
      ]
     },
     "execution_count": 43,
     "metadata": {},
     "output_type": "execute_result"
    }
   ],
   "source": [
    "dir(Bazowa)"
   ]
  },
  {
   "cell_type": "code",
   "execution_count": 44,
   "metadata": {},
   "outputs": [
    {
     "data": {
      "text/plain": [
       "['__class__',\n",
       " '__delattr__',\n",
       " '__dict__',\n",
       " '__dir__',\n",
       " '__doc__',\n",
       " '__eq__',\n",
       " '__format__',\n",
       " '__ge__',\n",
       " '__getattribute__',\n",
       " '__gt__',\n",
       " '__hash__',\n",
       " '__init__',\n",
       " '__init_subclass__',\n",
       " '__le__',\n",
       " '__lt__',\n",
       " '__module__',\n",
       " '__ne__',\n",
       " '__new__',\n",
       " '__reduce__',\n",
       " '__reduce_ex__',\n",
       " '__repr__',\n",
       " '__setattr__',\n",
       " '__sizeof__',\n",
       " '__str__',\n",
       " '__subclasshook__',\n",
       " '__weakref__',\n",
       " 'wyswietl_param1',\n",
       " 'wyswietl_param2']"
      ]
     },
     "execution_count": 44,
     "metadata": {},
     "output_type": "execute_result"
    }
   ],
   "source": [
    "dir(Pochodna)"
   ]
  },
  {
   "cell_type": "code",
   "execution_count": 67,
   "metadata": {
    "executionInfo": {
     "elapsed": 344,
     "status": "ok",
     "timestamp": 1627923357891,
     "user": {
      "displayName": "Mateusz Zimoch",
      "photoUrl": "https://lh3.googleusercontent.com/a-/AOh14GhLKHKJhMI_pTIoYkcl8z-E-V849Je8P3XxEzn2DQ=s64",
      "userId": "02738966002905530559"
     },
     "user_tz": -120
    },
    "id": "faoZtbmYMa03"
   },
   "outputs": [],
   "source": [
    "class PochodnaInna(Pochodna):\n",
    "    def wyswietl_parametry(self):\n",
    "        self.wyswietl_param1()\n",
    "        self.wyswietl_param2()"
   ]
  },
  {
   "cell_type": "code",
   "execution_count": 70,
   "metadata": {
    "colab": {
     "base_uri": "https://localhost:8080/"
    },
    "executionInfo": {
     "elapsed": 712,
     "status": "ok",
     "timestamp": 1627923361113,
     "user": {
      "displayName": "Mateusz Zimoch",
      "photoUrl": "https://lh3.googleusercontent.com/a-/AOh14GhLKHKJhMI_pTIoYkcl8z-E-V849Je8P3XxEzn2DQ=s64",
      "userId": "02738966002905530559"
     },
     "user_tz": -120
    },
    "id": "oA-eWZxeMa04",
    "outputId": "e8179acd-6ab3-4d11-df90-932b4018cb54"
   },
   "outputs": [
    {
     "name": "stdout",
     "output_type": "stream",
     "text": [
      "wywolanie funkcji __init__ z klasy bazowej\n",
      "wywolanie funkcji __init__ z klasy pochodnej\n"
     ]
    }
   ],
   "source": [
    "pochodna_inna = PochodnaInna(123, 456)"
   ]
  },
  {
   "cell_type": "code",
   "execution_count": 71,
   "metadata": {},
   "outputs": [
    {
     "name": "stdout",
     "output_type": "stream",
     "text": [
      "wartosc param1: 123\n",
      "Param2: 456\n"
     ]
    }
   ],
   "source": [
    "pochodna_inna.wyswietl_parametry()"
   ]
  },
  {
   "cell_type": "code",
   "execution_count": 50,
   "metadata": {},
   "outputs": [
    {
     "data": {
      "text/plain": [
       "['__class__',\n",
       " '__delattr__',\n",
       " '__dict__',\n",
       " '__dir__',\n",
       " '__doc__',\n",
       " '__eq__',\n",
       " '__format__',\n",
       " '__ge__',\n",
       " '__getattribute__',\n",
       " '__gt__',\n",
       " '__hash__',\n",
       " '__init__',\n",
       " '__init_subclass__',\n",
       " '__le__',\n",
       " '__lt__',\n",
       " '__module__',\n",
       " '__ne__',\n",
       " '__new__',\n",
       " '__reduce__',\n",
       " '__reduce_ex__',\n",
       " '__repr__',\n",
       " '__setattr__',\n",
       " '__sizeof__',\n",
       " '__str__',\n",
       " '__subclasshook__',\n",
       " '__weakref__',\n",
       " 'wyswietl_param1',\n",
       " 'wyswietl_param2',\n",
       " 'wyswietl_parametry']"
      ]
     },
     "execution_count": 50,
     "metadata": {},
     "output_type": "execute_result"
    }
   ],
   "source": [
    "dir(PochodnaInna)"
   ]
  },
  {
   "cell_type": "markdown",
   "metadata": {
    "id": "7dtmHngwMa04"
   },
   "source": [
    "## Klasy abstrakcyjne\n",
    "\n",
    "W Pythonie (i wielu innych językach) mamy możliwosc stworzenia tzw. klas abstrakcyjnych.\n",
    "Sa to klasy, których obiektu nie da się utworzyc bezposrednio, a jedynie poprzez dziedziczenie i stworzenie obiektu klasy pochodnej."
   ]
  },
  {
   "cell_type": "code",
   "execution_count": 73,
   "metadata": {
    "executionInfo": {
     "elapsed": 284,
     "status": "ok",
     "timestamp": 1627923573482,
     "user": {
      "displayName": "Mateusz Zimoch",
      "photoUrl": "https://lh3.googleusercontent.com/a-/AOh14GhLKHKJhMI_pTIoYkcl8z-E-V849Je8P3XxEzn2DQ=s64",
      "userId": "02738966002905530559"
     },
     "user_tz": -120
    },
    "id": "987CEUd4Ma04"
   },
   "outputs": [],
   "source": [
    "from abc import ABC, abstractmethod"
   ]
  },
  {
   "cell_type": "code",
   "execution_count": 99,
   "metadata": {
    "executionInfo": {
     "elapsed": 249,
     "status": "ok",
     "timestamp": 1627923608621,
     "user": {
      "displayName": "Mateusz Zimoch",
      "photoUrl": "https://lh3.googleusercontent.com/a-/AOh14GhLKHKJhMI_pTIoYkcl8z-E-V849Je8P3XxEzn2DQ=s64",
      "userId": "02738966002905530559"
     },
     "user_tz": -120
    },
    "id": "L2jbnCPbMa04"
   },
   "outputs": [],
   "source": [
    "class Maszyna(ABC):\n",
    "    @abstractmethod\n",
    "    def typ():\n",
    "        pass\n",
    "\n",
    "    @abstractmethod\n",
    "    def odpal_silnik():\n",
    "        pass\n",
    "\n",
    "    # @abstractmethod\n",
    "    # def dodaj_gazu():\n",
    "    #     pass"
   ]
  },
  {
   "cell_type": "code",
   "execution_count": 75,
   "metadata": {
    "colab": {
     "base_uri": "https://localhost:8080/",
     "height": 165
    },
    "executionInfo": {
     "elapsed": 447,
     "status": "error",
     "timestamp": 1627923611351,
     "user": {
      "displayName": "Mateusz Zimoch",
      "photoUrl": "https://lh3.googleusercontent.com/a-/AOh14GhLKHKJhMI_pTIoYkcl8z-E-V849Je8P3XxEzn2DQ=s64",
      "userId": "02738966002905530559"
     },
     "user_tz": -120
    },
    "id": "10Ez96c9Ma04",
    "outputId": "2c918a72-7ca0-4a3e-a8dd-652216007f23"
   },
   "outputs": [
    {
     "ename": "TypeError",
     "evalue": "Can't instantiate abstract class Maszyna without an implementation for abstract methods 'odpal_silnik', 'typ'",
     "output_type": "error",
     "traceback": [
      "\u001b[0;31m---------------------------------------------------------------------------\u001b[0m",
      "\u001b[0;31mTypeError\u001b[0m                                 Traceback (most recent call last)",
      "Cell \u001b[0;32mIn[75], line 1\u001b[0m\n\u001b[0;32m----> 1\u001b[0m maszyna1 \u001b[38;5;241m=\u001b[39m \u001b[43mMaszyna\u001b[49m\u001b[43m(\u001b[49m\u001b[43m)\u001b[49m\n",
      "\u001b[0;31mTypeError\u001b[0m: Can't instantiate abstract class Maszyna without an implementation for abstract methods 'odpal_silnik', 'typ'"
     ]
    }
   ],
   "source": [
    "maszyna1 = Maszyna()"
   ]
  },
  {
   "cell_type": "code",
   "execution_count": 100,
   "metadata": {
    "executionInfo": {
     "elapsed": 318,
     "status": "ok",
     "timestamp": 1627923645350,
     "user": {
      "displayName": "Mateusz Zimoch",
      "photoUrl": "https://lh3.googleusercontent.com/a-/AOh14GhLKHKJhMI_pTIoYkcl8z-E-V849Je8P3XxEzn2DQ=s64",
      "userId": "02738966002905530559"
     },
     "user_tz": -120
    },
    "id": "fRU00n5OMa04"
   },
   "outputs": [],
   "source": [
    "class Samochod(Maszyna):\n",
    "    def typ(self):\n",
    "        return \"to jest typ samochod\"\n",
    "\n",
    "    def odpal_silnik(self):\n",
    "        return \"teraz odpalam silnik samochodu\""
   ]
  },
  {
   "cell_type": "code",
   "execution_count": 101,
   "metadata": {
    "executionInfo": {
     "elapsed": 275,
     "status": "ok",
     "timestamp": 1627923647000,
     "user": {
      "displayName": "Mateusz Zimoch",
      "photoUrl": "https://lh3.googleusercontent.com/a-/AOh14GhLKHKJhMI_pTIoYkcl8z-E-V849Je8P3XxEzn2DQ=s64",
      "userId": "02738966002905530559"
     },
     "user_tz": -120
    },
    "id": "_iEkhX0bMa05"
   },
   "outputs": [],
   "source": [
    "samochod = Samochod()"
   ]
  },
  {
   "cell_type": "code",
   "execution_count": 84,
   "metadata": {
    "colab": {
     "base_uri": "https://localhost:8080/",
     "height": 35
    },
    "executionInfo": {
     "elapsed": 25,
     "status": "ok",
     "timestamp": 1627923649058,
     "user": {
      "displayName": "Mateusz Zimoch",
      "photoUrl": "https://lh3.googleusercontent.com/a-/AOh14GhLKHKJhMI_pTIoYkcl8z-E-V849Je8P3XxEzn2DQ=s64",
      "userId": "02738966002905530559"
     },
     "user_tz": -120
    },
    "id": "E2rDozqaMa05",
    "outputId": "3b821137-44b1-44d7-81a3-ca2bf46c02f5"
   },
   "outputs": [
    {
     "data": {
      "text/plain": [
       "'to jest typ samochod'"
      ]
     },
     "execution_count": 84,
     "metadata": {},
     "output_type": "execute_result"
    }
   ],
   "source": [
    "samochod.typ()"
   ]
  },
  {
   "cell_type": "code",
   "execution_count": 85,
   "metadata": {},
   "outputs": [
    {
     "data": {
      "text/plain": [
       "'teraz odpalam silnik samochodu'"
      ]
     },
     "execution_count": 85,
     "metadata": {},
     "output_type": "execute_result"
    }
   ],
   "source": [
    "samochod.odpal_silnik()"
   ]
  },
  {
   "cell_type": "code",
   "execution_count": 87,
   "metadata": {},
   "outputs": [],
   "source": [
    "class Traktor(Maszyna):\n",
    "    def typ(self):\n",
    "        return \"to jest traktor\"\n",
    "\n",
    "    def odpal_silnik(self):\n",
    "        return \"teraz odpalam silnik traktora\""
   ]
  },
  {
   "cell_type": "code",
   "execution_count": 88,
   "metadata": {},
   "outputs": [],
   "source": [
    "traktor = Traktor()"
   ]
  },
  {
   "cell_type": "code",
   "execution_count": 89,
   "metadata": {},
   "outputs": [
    {
     "data": {
      "text/plain": [
       "'to jest traktor'"
      ]
     },
     "execution_count": 89,
     "metadata": {},
     "output_type": "execute_result"
    }
   ],
   "source": [
    "traktor.typ()"
   ]
  },
  {
   "cell_type": "code",
   "execution_count": 90,
   "metadata": {},
   "outputs": [
    {
     "data": {
      "text/plain": [
       "'teraz odpalam silnik traktora'"
      ]
     },
     "execution_count": 90,
     "metadata": {},
     "output_type": "execute_result"
    }
   ],
   "source": [
    "traktor.odpal_silnik()"
   ]
  },
  {
   "cell_type": "code",
   "execution_count": 92,
   "metadata": {},
   "outputs": [],
   "source": [
    "class Skuter(Maszyna):\n",
    "    def typ(self):\n",
    "        return \"to jest skuter\"\n",
    "\n",
    "    def odpal_silnik(self):\n",
    "        return \"teraz odpalam silnik skutera\""
   ]
  },
  {
   "cell_type": "code",
   "execution_count": 93,
   "metadata": {},
   "outputs": [],
   "source": [
    "skuter = Skuter()"
   ]
  },
  {
   "cell_type": "code",
   "execution_count": 94,
   "metadata": {},
   "outputs": [
    {
     "data": {
      "text/plain": [
       "'to jest skuter'"
      ]
     },
     "execution_count": 94,
     "metadata": {},
     "output_type": "execute_result"
    }
   ],
   "source": [
    "skuter.typ()"
   ]
  },
  {
   "cell_type": "code",
   "execution_count": 95,
   "metadata": {},
   "outputs": [
    {
     "data": {
      "text/plain": [
       "'teraz odpalam silnik skutera'"
      ]
     },
     "execution_count": 95,
     "metadata": {},
     "output_type": "execute_result"
    }
   ],
   "source": [
    "skuter.odpal_silnik()"
   ]
  },
  {
   "cell_type": "markdown",
   "metadata": {
    "id": "NQv2HwU4Ma05"
   },
   "source": [
    "# Zadania"
   ]
  },
  {
   "cell_type": "markdown",
   "metadata": {
    "id": "RWd1-qlUMa05"
   },
   "source": [
    "## Zadanie 1\n",
    "\n",
    "Stwórz klasę *Pamiętnik*, która zaimplementuje metody do odczytywania i dopisywania zawartosci. Zawartosc będzie przechowywana w pliku tekstowym."
   ]
  },
  {
   "cell_type": "code",
   "execution_count": 70,
   "metadata": {
    "id": "v5MA1s49Ma05"
   },
   "outputs": [
    {
     "name": "stdout",
     "output_type": "stream",
     "text": [
      "Pierwszy wpis w pamiętniku\n",
      "Drugi wpis\n",
      "\n",
      "--------------------\n",
      "Pierwszy wpis w pamiętniku\n",
      "Drugi wpis\n",
      "Kolejny wpis\n",
      "\n",
      "--------------------\n"
     ]
    }
   ],
   "source": [
    "class Pamietnik():\n",
    "    def __init__(self, plik):\n",
    "        self.plik = plik\n",
    "        with open(self.plik,'w') as p:\n",
    "            p.truncate()\n",
    "    \n",
    "    def dodaj_wpis(self, wpis):\n",
    "        with open(self.plik, 'a') as plik:\n",
    "            plik.write(wpis + \"\\n\")\n",
    "\n",
    "    def odczytaj(self):\n",
    "        with open(self.plik, 'r') as plik:\n",
    "            print(plik.read())\n",
    "        print(\"-\"*20)\n",
    "\n",
    "pamietnik = Pamietnik('pamietnik.txt')\n",
    "pamietnik.dodaj_wpis(\"Pierwszy wpis w pamiętniku\")\n",
    "pamietnik.dodaj_wpis(\"Drugi wpis\")\n",
    "pamietnik.odczytaj()\n",
    "pamietnik.dodaj_wpis(\"Kolejny wpis\")\n",
    "pamietnik.odczytaj()"
   ]
  },
  {
   "cell_type": "markdown",
   "metadata": {
    "id": "tc5o9PQ0Ma06"
   },
   "source": [
    "## Zadanie 2.\n",
    "\n",
    "Stwórz klasę *Trójkat*, w której konstruktor przyjmuje 3 argumenty, reprezentujace katy trójkata. Klasa implementuje metodę *sprawdz_katy*, która sprawdzi czy suma katow jest rowna 180."
   ]
  },
  {
   "cell_type": "code",
   "execution_count": 2,
   "metadata": {
    "id": "2gHWFLN5Ma06"
   },
   "outputs": [
    {
     "name": "stdout",
     "output_type": "stream",
     "text": [
      "False\n",
      "True\n",
      "False\n"
     ]
    }
   ],
   "source": [
    "class Trojkat():\n",
    "    def __init__(self, k1, k2, k3):\n",
    "        self.kat1=k1\n",
    "        self.kat2=k2\n",
    "        self.kat3=k3\n",
    "\n",
    "    def sprawdz_katy(self):\n",
    "        return self.kat1+self.kat2+self.kat3 == 180\n",
    "\n",
    "figura1 = Trojkat(20,30,150)\n",
    "print(figura1.sprawdz_katy())\n",
    "\n",
    "figura1 = Trojkat(20,30,130)\n",
    "print(figura1.sprawdz_katy())\n",
    "\n",
    "figura1 = Trojkat(50,50,100)\n",
    "print(figura1.sprawdz_katy())\n",
    "\n"
   ]
  },
  {
   "cell_type": "markdown",
   "metadata": {
    "id": "iFUriPB9Ma06"
   },
   "source": [
    "## Zadanie 3.\n",
    "\n",
    "Stwórz klasę przyjmujaca w konstruktorze listę będaca kolejnymi wierszami piosenki.\n",
    "Klasa będzie mie metodę *spiewaj*, która wypisze wszystkie wiersze piosenki po kolei."
   ]
  },
  {
   "cell_type": "code",
   "execution_count": 3,
   "metadata": {
    "id": "D37Lj-A6Ma06"
   },
   "outputs": [
    {
     "name": "stdout",
     "output_type": "stream",
     "text": [
      "Wlazł kotek\n",
      "na płotek\n",
      "i mruga\n",
      "ładna to\n",
      "piosenka\n",
      "niedługa\n"
     ]
    }
   ],
   "source": [
    "class Piosenka():\n",
    "    def __init__(self, wiersze):\n",
    "        self.wiersze = wiersze\n",
    "        \n",
    "    def spiewaj(self):\n",
    "        for w in self.wiersze:\n",
    "            print(w)\n",
    "\n",
    "piosenka = Piosenka([\"Wlazł kotek\", \"na płotek\", \"i mruga\", \"ładna to\", \"piosenka\", \"niedługa\"])\n",
    "piosenka.spiewaj()\n",
    "        "
   ]
  },
  {
   "cell_type": "markdown",
   "metadata": {
    "id": "4TpTFk7XMa06"
   },
   "source": [
    "## Zadanie 4.\n",
    "\n",
    "Zaimplementuj klasę bazowa *Figura*. Klasa będzie miec metody obliczajace pole i obwod.\n",
    "Stworz klasy reprezentujace trójkat i prostokat, implementujace odpowiednio obie metody."
   ]
  },
  {
   "cell_type": "code",
   "execution_count": 25,
   "metadata": {
    "id": "A6uQoL9sMa06"
   },
   "outputs": [
    {
     "name": "stdout",
     "output_type": "stream",
     "text": [
      "trójkąt:\n",
      "pole: 14.696938456699069\n",
      "obwód: 18\n",
      "prostokąt:\n",
      "pole: 50\n",
      "obwód: 30\n",
      "kwadrat:\n",
      "pole: 25\n",
      "obwód: 20\n"
     ]
    }
   ],
   "source": [
    "from abc import ABC, abstractmethod\n",
    "class Figura(ABC):    \n",
    "    @abstractmethod\n",
    "    def pole(self):\n",
    "        pass\n",
    "        \n",
    "    @abstractmethod\n",
    "    def obwod(self):\n",
    "        pass\n",
    "\n",
    "class Trojkat2(Figura):\n",
    "    def __init__(self, a, b, c):\n",
    "        self.a = a\n",
    "        self.b = b\n",
    "        self.c = c\n",
    "        \n",
    "    def pole(self):\n",
    "        # ze wzoru Herona\n",
    "        pol_obwodu = self.obwod()/2\n",
    "        return (pol_obwodu*(pol_obwodu-self.a)*(pol_obwodu-self.b)*(pol_obwodu-self.c))**(1/2)\n",
    "        \n",
    "\n",
    "    def obwod(self):\n",
    "        return self.a+self.b+self.c\n",
    "\n",
    "class Prostokat(Figura):\n",
    "    def __init__(self, a, b):\n",
    "        self.a = a\n",
    "        self.b = b\n",
    "\n",
    "    def pole(self):\n",
    "        return self.a*self.b\n",
    "\n",
    "    def obwod(self):\n",
    "        return (self.a+self.b)*2\n",
    "\n",
    "# BONUS: każdy kwadrat jest prostokątem, więc jeśli zastosujemy dziedziczenie, to nie trzeba definiować osobnych funkcji na pole i obwód;)\n",
    "class Kwadrat(Prostokat):\n",
    "    def __init__(self, a):\n",
    "        super().__init__(a, a)\n",
    "\n",
    "trojkat = Trojkat2(5,6,7)\n",
    "print(\"trójkąt:\")\n",
    "print(f\"pole: {trojkat.pole()}\")\n",
    "print(f\"obwód: {trojkat.obwod()}\")\n",
    "\n",
    "prostokat = Prostokat(10,5)\n",
    "print(\"prostokąt:\")\n",
    "print(f\"pole: {prostokat.pole()}\")\n",
    "print(f\"obwód: {prostokat.obwod()}\")\n",
    "\n",
    "print(\"kwadrat:\")\n",
    "kwadrat = Kwadrat(5)\n",
    "print(f\"pole: {kwadrat.pole()}\")\n",
    "print(f\"obwód: {kwadrat.obwod()}\")\n",
    "\n",
    "        "
   ]
  },
  {
   "cell_type": "markdown",
   "metadata": {
    "id": "6tiQHY7BMa07"
   },
   "source": [
    "## Zadanie 5.\n",
    "\n",
    "Stwórz klasę reprezentujaca linię prosta, która przymuje w konstruktorze współrzędne obu końców w układzie współrzędnych XY.\n",
    "Klasa implementuje metodę obliczaja długosc linii."
   ]
  },
  {
   "cell_type": "code",
   "execution_count": 58,
   "metadata": {
    "id": "gTxt8VNfMa07"
   },
   "outputs": [
    {
     "name": "stdout",
     "output_type": "stream",
     "text": [
      "2.8284271247461903\n",
      "30.066592756745816\n"
     ]
    }
   ],
   "source": [
    "class Odcinek:\n",
    "    def __init__(self, x1, y1, x2, y2):\n",
    "        self.x1 = x1\n",
    "        self.x2 = x2\n",
    "        self.y1 = y1\n",
    "        self.y2 = y2\n",
    "\n",
    "    def dlugosc(self):\n",
    "        return ((self.x2-self.x1)**2+(self.y2-self.y1)**2)**(1/2)\n",
    "\n",
    "    # funkcja do printowania odcinka - potrzebna do zadania 6\n",
    "    def __repr__(self):\n",
    "        return f\"(({self.x1},{self.y1}),({self.x2},{self.y2}))\"\n",
    "\n",
    "odcinek = Odcinek(0,0,2,2)\n",
    "print(odcinek.dlugosc())\n",
    "\n",
    "odcinek = Odcinek(-10,0,20,2)\n",
    "print(odcinek.dlugosc())\n"
   ]
  },
  {
   "cell_type": "markdown",
   "metadata": {
    "id": "EdYnr8a_Ma07"
   },
   "source": [
    "## Zadanie 7.\n",
    "\n",
    "Stwórz klasę reprezentujaca wielokat, i przyjmujaca w konstruktorze listę kolejnych linii (obiekty klasy z poprzedniego zadania), reprezentujacych kolejne boki wielokata.\n",
    "Klasa powinna sprawdzic czy dane sa poprawne (czy każda linia kończy się tam gdzie zaczyna następna).\n",
    "Klasa wielokata implementuje również metodę obliczajaca obwód."
   ]
  },
  {
   "cell_type": "code",
   "execution_count": 59,
   "metadata": {
    "id": "GSIE2mYkMa07"
   },
   "outputs": [
    {
     "name": "stdout",
     "output_type": "stream",
     "text": [
      "Odcinki [((0,0),(1,1)), ((1,1),(2,3))] nie tworza wielokata\n",
      "Obwód: 7.255832815336873\n",
      "Obwód: 4.0\n",
      "Obwód: 14.658957052769722\n",
      "Odcinki [((0,0),(1,1)), ((1,1),(4,3)), ((2,3),(0,0))] nie tworza wielokata\n"
     ]
    }
   ],
   "source": [
    "class Wielokat:\n",
    "    def __init__(self, boki):\n",
    "        self.boki = boki\n",
    "\n",
    "    def jest_wielokatem(self):\n",
    "        if len(self.boki)<3:\n",
    "            return False\n",
    "        for i, b in enumerate(self.boki):\n",
    "            if i==len(self.boki)-1: #mamy ostatni bok, więc sprawdzamy z pierwszym\n",
    "                j=0\n",
    "            else: # w przeciwnym razie - z kolejnym\n",
    "                j=i+1 \n",
    "            if self.boki[i].x2 != self.boki[j].x1 or self.boki[i].y2 != self.boki[j].y1:\n",
    "                return False\n",
    "        return True\n",
    "\n",
    "    def obwod(self):\n",
    "        obwod = 0\n",
    "        for b in self.boki:\n",
    "            obwod +=b.dlugosc()\n",
    "        return obwod\n",
    "\n",
    "odcinki = [\n",
    "    [Odcinek(0,0, 1, 1), Odcinek(1,1,2,3)],\n",
    "    [Odcinek(0,0, 1, 1), Odcinek(1,1,2,3), Odcinek(2,3,0,0)],\n",
    "    [Odcinek(0,0, 1, 0), Odcinek(1,0,1,1), Odcinek(1,1,0,1), Odcinek(0,1,0,0)],\n",
    "    [Odcinek(0,0, 1, 1), Odcinek(1,1,2,3), Odcinek(2,3,2,2), Odcinek(2,2,4,5), Odcinek(4,5,0,0)],\n",
    "    [Odcinek(0,0, 1, 1), Odcinek(1,1,4,3), Odcinek(2,3,0,0)]\n",
    "]\n",
    "\n",
    "\n",
    "for o in odcinki: \n",
    "    w = Wielokat(o)\n",
    "    if w.jest_wielokatem():\n",
    "        print(f\"Obwód: {w.obwod()}\")\n",
    "    else:\n",
    "        print(f\"Odcinki {o} nie tworza wielokata\")\n",
    "        \n",
    "\n",
    "\n",
    "\n",
    "                "
   ]
  },
  {
   "cell_type": "markdown",
   "metadata": {
    "id": "Y-x-qNp6Ma07"
   },
   "source": [
    "## Zadanie 8.\n",
    "\n",
    "Stwórz abstrakcyjna klasę bazowa reperzentujaca zwierze.\n",
    "Konstruktor klasy będzie przyjmowac parametr reprezentujacy imię zwierzęcia.\n",
    "Klasa będzie miec 2 metody.\n",
    "Jedna metoda *daj_glos* będzie abstrakcyjna.\n",
    "Druga metoda *powitanie* będzie wyswietlac napis, składajacy się z wartosci zwracanej przez *daj_glos*, z wyswietlenia imienia zwierzęcia oraz z wyswietlenia jakiego typu (atrybut typ dla klasy) jest zwierze."
   ]
  },
  {
   "cell_type": "code",
   "execution_count": 67,
   "metadata": {
    "id": "Rkwkh-MXMa08"
   },
   "outputs": [],
   "source": [
    "from abc import ABC, abstractmethod\n",
    "class Zwierze(ABC):\n",
    "    def __init__(self, imie):\n",
    "        self.imie = imie\n",
    "        self.typ = \"\"\n",
    "        \n",
    "    @abstractmethod\n",
    "    def daj_glos(self):\n",
    "        return \"\"\n",
    "\n",
    "    def powitanie(self):\n",
    "        print(f\"{self.typ} {self.imie} mówi: {self.daj_glos()}\")\n",
    "\n"
   ]
  },
  {
   "cell_type": "markdown",
   "metadata": {
    "id": "24mXMCkfMa08"
   },
   "source": [
    "## Zadanie 9.\n",
    "\n",
    "Stwórz klasy potomne dla klasy bazowej zwierzęcia, implementujace reprezentujace psa i kota.\n",
    "W konstruktorze każdej z nich ustaw odpowiednio zmienna reprezentujaca typ zwierzęcia.\n",
    "Zaimplementuj odpowiednio metodę *daj_głos* w każdej z klas potomnych.\n",
    "Sprawdź, czy obiekty stworzone z klas *Pies* i *Kot* potrafia poprawnie się przywitac."
   ]
  },
  {
   "cell_type": "code",
   "execution_count": 68,
   "metadata": {
    "id": "RXAOXPgwMa08"
   },
   "outputs": [
    {
     "name": "stdout",
     "output_type": "stream",
     "text": [
      "kot Filemon mówi: Miau\n",
      "pies Reksio mówi: Hau Hau\n"
     ]
    }
   ],
   "source": [
    "class Kot(Zwierze):\n",
    "    def __init__(self, imie):\n",
    "        super().__init__(imie)\n",
    "        self.typ = \"kot\"\n",
    "        \n",
    "    def daj_glos(self):\n",
    "        return \"Miau\"\n",
    "\n",
    "class Pies(Zwierze):\n",
    "    def __init__(self, imie):\n",
    "        super().__init__(imie)\n",
    "        self.typ = \"pies\"\n",
    "        \n",
    "    def daj_glos(self):\n",
    "        return \"Hau Hau\"\n",
    "\n",
    "kot = Kot(\"Filemon\")\n",
    "pies= Pies(\"Reksio\")\n",
    "\n",
    "kot.powitanie()\n",
    "pies.powitanie()\n"
   ]
  }
 ],
 "metadata": {
  "colab": {
   "name": "Lekcja+10.+Python+-+wprowadzenie_ZMODYFIKOWANE.ipynb",
   "provenance": []
  },
  "kernelspec": {
   "display_name": "Python 3 (ipykernel)",
   "language": "python",
   "name": "python3"
  },
  "language_info": {
   "codemirror_mode": {
    "name": "ipython",
    "version": 3
   },
   "file_extension": ".py",
   "mimetype": "text/x-python",
   "name": "python",
   "nbconvert_exporter": "python",
   "pygments_lexer": "ipython3",
   "version": "3.12.3"
  }
 },
 "nbformat": 4,
 "nbformat_minor": 4
}
