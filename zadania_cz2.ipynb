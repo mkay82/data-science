{
 "cells": [
  {
   "cell_type": "markdown",
   "metadata": {
    "id": "RWd1-qlUMa05"
   },
   "source": [
    "## Zadanie 1\n",
    "\n",
    "Stwórz klasę *Pamiętnik*, która zaimplementuje metody do odczytywania i dopisywania zawartosci. Zawartosc będzie przechowywana w pliku tekstowym."
   ]
  },
  {
   "cell_type": "code",
   "execution_count": 70,
   "metadata": {
    "id": "v5MA1s49Ma05"
   },
   "outputs": [
    {
     "name": "stdout",
     "output_type": "stream",
     "text": [
      "Pierwszy wpis w pamiętniku\n",
      "Drugi wpis\n",
      "\n",
      "--------------------\n",
      "Pierwszy wpis w pamiętniku\n",
      "Drugi wpis\n",
      "Kolejny wpis\n",
      "\n",
      "--------------------\n"
     ]
    }
   ],
   "source": [
    "class Pamietnik():\n",
    "    def __init__(self, plik):\n",
    "        self.plik = plik\n",
    "        with open(self.plik,'w') as p:\n",
    "            p.truncate()\n",
    "    \n",
    "    def dodaj_wpis(self, wpis):\n",
    "        with open(self.plik, 'a') as plik:\n",
    "            plik.write(wpis + \"\\n\")\n",
    "\n",
    "    def odczytaj(self):\n",
    "        with open(self.plik, 'r') as plik:\n",
    "            print(plik.read())\n",
    "        print(\"-\"*20)\n",
    "\n",
    "pamietnik = Pamietnik('pamietnik.txt')\n",
    "pamietnik.dodaj_wpis(\"Pierwszy wpis w pamiętniku\")\n",
    "pamietnik.dodaj_wpis(\"Drugi wpis\")\n",
    "pamietnik.odczytaj()\n",
    "pamietnik.dodaj_wpis(\"Kolejny wpis\")\n",
    "pamietnik.odczytaj()"
   ]
  },
  {
   "cell_type": "markdown",
   "metadata": {
    "id": "tc5o9PQ0Ma06"
   },
   "source": [
    "## Zadanie 2.\n",
    "\n",
    "Stwórz klasę *Trójkat*, w której konstruktor przyjmuje 3 argumenty, reprezentujace katy trójkata. Klasa implementuje metodę *sprawdz_katy*, która sprawdzi czy suma katow jest rowna 180."
   ]
  },
  {
   "cell_type": "code",
   "execution_count": 2,
   "metadata": {
    "id": "2gHWFLN5Ma06"
   },
   "outputs": [
    {
     "name": "stdout",
     "output_type": "stream",
     "text": [
      "False\n",
      "True\n",
      "False\n"
     ]
    }
   ],
   "source": [
    "class Trojkat():\n",
    "    def __init__(self, k1, k2, k3):\n",
    "        self.kat1=k1\n",
    "        self.kat2=k2\n",
    "        self.kat3=k3\n",
    "\n",
    "    def sprawdz_katy(self):\n",
    "        return self.kat1+self.kat2+self.kat3 == 180\n",
    "\n",
    "figura1 = Trojkat(20,30,150)\n",
    "print(figura1.sprawdz_katy())\n",
    "\n",
    "figura1 = Trojkat(20,30,130)\n",
    "print(figura1.sprawdz_katy())\n",
    "\n",
    "figura1 = Trojkat(50,50,100)\n",
    "print(figura1.sprawdz_katy())\n",
    "\n"
   ]
  },
  {
   "cell_type": "markdown",
   "metadata": {
    "id": "iFUriPB9Ma06"
   },
   "source": [
    "## Zadanie 3.\n",
    "\n",
    "Stwórz klasę przyjmujaca w konstruktorze listę będaca kolejnymi wierszami piosenki.\n",
    "Klasa będzie mie metodę *spiewaj*, która wypisze wszystkie wiersze piosenki po kolei."
   ]
  },
  {
   "cell_type": "code",
   "execution_count": 3,
   "metadata": {
    "id": "D37Lj-A6Ma06"
   },
   "outputs": [
    {
     "name": "stdout",
     "output_type": "stream",
     "text": [
      "Wlazł kotek\n",
      "na płotek\n",
      "i mruga\n",
      "ładna to\n",
      "piosenka\n",
      "niedługa\n"
     ]
    }
   ],
   "source": [
    "class Piosenka():\n",
    "    def __init__(self, wiersze):\n",
    "        self.wiersze = wiersze\n",
    "        \n",
    "    def spiewaj(self):\n",
    "        for w in self.wiersze:\n",
    "            print(w)\n",
    "\n",
    "piosenka = Piosenka([\"Wlazł kotek\", \"na płotek\", \"i mruga\", \"ładna to\", \"piosenka\", \"niedługa\"])\n",
    "piosenka.spiewaj()\n",
    "        "
   ]
  },
  {
   "cell_type": "markdown",
   "metadata": {
    "id": "4TpTFk7XMa06"
   },
   "source": [
    "## Zadanie 4.\n",
    "\n",
    "Zaimplementuj klasę bazowa *Figura*. Klasa będzie miec metody obliczajace pole i obwod.\n",
    "Stworz klasy reprezentujace trójkat i prostokat, implementujace odpowiednio obie metody."
   ]
  },
  {
   "cell_type": "code",
   "execution_count": 25,
   "metadata": {
    "id": "A6uQoL9sMa06"
   },
   "outputs": [
    {
     "name": "stdout",
     "output_type": "stream",
     "text": [
      "trójkąt:\n",
      "pole: 14.696938456699069\n",
      "obwód: 18\n",
      "prostokąt:\n",
      "pole: 50\n",
      "obwód: 30\n",
      "kwadrat:\n",
      "pole: 25\n",
      "obwód: 20\n"
     ]
    }
   ],
   "source": [
    "from abc import ABC, abstractmethod\n",
    "class Figura(ABC):    \n",
    "    @abstractmethod\n",
    "    def pole(self):\n",
    "        pass\n",
    "        \n",
    "    @abstractmethod\n",
    "    def obwod(self):\n",
    "        pass\n",
    "\n",
    "class Trojkat2(Figura):\n",
    "    def __init__(self, a, b, c):\n",
    "        self.a = a\n",
    "        self.b = b\n",
    "        self.c = c\n",
    "        \n",
    "    def pole(self):\n",
    "        # ze wzoru Herona\n",
    "        pol_obwodu = self.obwod()/2\n",
    "        return (pol_obwodu*(pol_obwodu-self.a)*(pol_obwodu-self.b)*(pol_obwodu-self.c))**(1/2)\n",
    "        \n",
    "\n",
    "    def obwod(self):\n",
    "        return self.a+self.b+self.c\n",
    "\n",
    "class Prostokat(Figura):\n",
    "    def __init__(self, a, b):\n",
    "        self.a = a\n",
    "        self.b = b\n",
    "\n",
    "    def pole(self):\n",
    "        return self.a*self.b\n",
    "\n",
    "    def obwod(self):\n",
    "        return (self.a+self.b)*2\n",
    "\n",
    "# BONUS: każdy kwadrat jest prostokątem, więc jeśli zastosujemy dziedziczenie, to nie trzeba definiować osobnych funkcji na pole i obwód;)\n",
    "class Kwadrat(Prostokat):\n",
    "    def __init__(self, a):\n",
    "        super().__init__(a, a)\n",
    "\n",
    "trojkat = Trojkat2(5,6,7)\n",
    "print(\"trójkąt:\")\n",
    "print(f\"pole: {trojkat.pole()}\")\n",
    "print(f\"obwód: {trojkat.obwod()}\")\n",
    "\n",
    "prostokat = Prostokat(10,5)\n",
    "print(\"prostokąt:\")\n",
    "print(f\"pole: {prostokat.pole()}\")\n",
    "print(f\"obwód: {prostokat.obwod()}\")\n",
    "\n",
    "print(\"kwadrat:\")\n",
    "kwadrat = Kwadrat(5)\n",
    "print(f\"pole: {kwadrat.pole()}\")\n",
    "print(f\"obwód: {kwadrat.obwod()}\")\n",
    "\n",
    "        "
   ]
  },
  {
   "cell_type": "markdown",
   "metadata": {
    "id": "6tiQHY7BMa07"
   },
   "source": [
    "## Zadanie 5.\n",
    "\n",
    "Stwórz klasę reprezentujaca linię prosta, która przymuje w konstruktorze współrzędne obu końców w układzie współrzędnych XY.\n",
    "Klasa implementuje metodę obliczaja długosc linii."
   ]
  },
  {
   "cell_type": "code",
   "execution_count": 58,
   "metadata": {
    "id": "gTxt8VNfMa07"
   },
   "outputs": [
    {
     "name": "stdout",
     "output_type": "stream",
     "text": [
      "2.8284271247461903\n",
      "30.066592756745816\n"
     ]
    }
   ],
   "source": [
    "class Odcinek:\n",
    "    def __init__(self, x1, y1, x2, y2):\n",
    "        self.x1 = x1\n",
    "        self.x2 = x2\n",
    "        self.y1 = y1\n",
    "        self.y2 = y2\n",
    "\n",
    "    def dlugosc(self):\n",
    "        return ((self.x2-self.x1)**2+(self.y2-self.y1)**2)**(1/2)\n",
    "\n",
    "    # funkcja do printowania odcinka - potrzebna do zadania 6\n",
    "    def __repr__(self):\n",
    "        return f\"(({self.x1},{self.y1}),({self.x2},{self.y2}))\"\n",
    "\n",
    "odcinek = Odcinek(0,0,2,2)\n",
    "print(odcinek.dlugosc())\n",
    "\n",
    "odcinek = Odcinek(-10,0,20,2)\n",
    "print(odcinek.dlugosc())\n"
   ]
  },
  {
   "cell_type": "markdown",
   "metadata": {
    "id": "EdYnr8a_Ma07"
   },
   "source": [
    "## Zadanie 7.\n",
    "\n",
    "Stwórz klasę reprezentujaca wielokat, i przyjmujaca w konstruktorze listę kolejnych linii (obiekty klasy z poprzedniego zadania), reprezentujacych kolejne boki wielokata.\n",
    "Klasa powinna sprawdzic czy dane sa poprawne (czy każda linia kończy się tam gdzie zaczyna następna).\n",
    "Klasa wielokata implementuje również metodę obliczajaca obwód."
   ]
  },
  {
   "cell_type": "code",
   "execution_count": 59,
   "metadata": {
    "id": "GSIE2mYkMa07"
   },
   "outputs": [
    {
     "name": "stdout",
     "output_type": "stream",
     "text": [
      "Odcinki [((0,0),(1,1)), ((1,1),(2,3))] nie tworza wielokata\n",
      "Obwód: 7.255832815336873\n",
      "Obwód: 4.0\n",
      "Obwód: 14.658957052769722\n",
      "Odcinki [((0,0),(1,1)), ((1,1),(4,3)), ((2,3),(0,0))] nie tworza wielokata\n"
     ]
    }
   ],
   "source": [
    "class Wielokat:\n",
    "    def __init__(self, boki):\n",
    "        self.boki = boki\n",
    "\n",
    "    def jest_wielokatem(self):\n",
    "        if len(self.boki)<3:\n",
    "            return False\n",
    "        for i, b in enumerate(self.boki):\n",
    "            if i==len(self.boki)-1: #mamy ostatni bok, więc sprawdzamy z pierwszym\n",
    "                j=0\n",
    "            else: # w przeciwnym razie - z kolejnym\n",
    "                j=i+1 \n",
    "            if self.boki[i].x2 != self.boki[j].x1 or self.boki[i].y2 != self.boki[j].y1:\n",
    "                return False\n",
    "        return True\n",
    "\n",
    "    def obwod(self):\n",
    "        obwod = 0\n",
    "        for b in self.boki:\n",
    "            obwod +=b.dlugosc()\n",
    "        return obwod\n",
    "\n",
    "odcinki = [\n",
    "    [Odcinek(0,0, 1, 1), Odcinek(1,1,2,3)],\n",
    "    [Odcinek(0,0, 1, 1), Odcinek(1,1,2,3), Odcinek(2,3,0,0)],\n",
    "    [Odcinek(0,0, 1, 0), Odcinek(1,0,1,1), Odcinek(1,1,0,1), Odcinek(0,1,0,0)],\n",
    "    [Odcinek(0,0, 1, 1), Odcinek(1,1,2,3), Odcinek(2,3,2,2), Odcinek(2,2,4,5), Odcinek(4,5,0,0)],\n",
    "    [Odcinek(0,0, 1, 1), Odcinek(1,1,4,3), Odcinek(2,3,0,0)]\n",
    "]\n",
    "\n",
    "\n",
    "for o in odcinki: \n",
    "    w = Wielokat(o)\n",
    "    if w.jest_wielokatem():\n",
    "        print(f\"Obwód: {w.obwod()}\")\n",
    "    else:\n",
    "        print(f\"Odcinki {o} nie tworza wielokata\")\n",
    "        \n",
    "\n",
    "\n",
    "\n",
    "                "
   ]
  },
  {
   "cell_type": "markdown",
   "metadata": {
    "id": "Y-x-qNp6Ma07"
   },
   "source": [
    "## Zadanie 8.\n",
    "\n",
    "Stwórz abstrakcyjna klasę bazowa reperzentujaca zwierze.\n",
    "Konstruktor klasy będzie przyjmowac parametr reprezentujacy imię zwierzęcia.\n",
    "Klasa będzie miec 2 metody.\n",
    "Jedna metoda *daj_glos* będzie abstrakcyjna.\n",
    "Druga metoda *powitanie* będzie wyswietlac napis, składajacy się z wartosci zwracanej przez *daj_glos*, z wyswietlenia imienia zwierzęcia oraz z wyswietlenia jakiego typu (atrybut typ dla klasy) jest zwierze."
   ]
  },
  {
   "cell_type": "code",
   "execution_count": 67,
   "metadata": {
    "id": "Rkwkh-MXMa08"
   },
   "outputs": [],
   "source": [
    "from abc import ABC, abstractmethod\n",
    "class Zwierze(ABC):\n",
    "    def __init__(self, imie):\n",
    "        self.imie = imie\n",
    "        self.typ = \"\"\n",
    "        \n",
    "    @abstractmethod\n",
    "    def daj_glos(self):\n",
    "        return \"\"\n",
    "\n",
    "    def powitanie(self):\n",
    "        print(f\"{self.typ} {self.imie} mówi: {self.daj_glos()}\")\n",
    "\n"
   ]
  },
  {
   "cell_type": "markdown",
   "metadata": {
    "id": "24mXMCkfMa08"
   },
   "source": [
    "## Zadanie 9.\n",
    "\n",
    "Stwórz klasy potomne dla klasy bazowej zwierzęcia, implementujace reprezentujace psa i kota.\n",
    "W konstruktorze każdej z nich ustaw odpowiednio zmienna reprezentujaca typ zwierzęcia.\n",
    "Zaimplementuj odpowiednio metodę *daj_głos* w każdej z klas potomnych.\n",
    "Sprawdź, czy obiekty stworzone z klas *Pies* i *Kot* potrafia poprawnie się przywitac."
   ]
  },
  {
   "cell_type": "code",
   "execution_count": 68,
   "metadata": {
    "id": "RXAOXPgwMa08"
   },
   "outputs": [
    {
     "name": "stdout",
     "output_type": "stream",
     "text": [
      "kot Filemon mówi: Miau\n",
      "pies Reksio mówi: Hau Hau\n"
     ]
    }
   ],
   "source": [
    "class Kot(Zwierze):\n",
    "    def __init__(self, imie):\n",
    "        super().__init__(imie)\n",
    "        self.typ = \"kot\"\n",
    "        \n",
    "    def daj_glos(self):\n",
    "        return \"Miau\"\n",
    "\n",
    "class Pies(Zwierze):\n",
    "    def __init__(self, imie):\n",
    "        super().__init__(imie)\n",
    "        self.typ = \"pies\"\n",
    "        \n",
    "    def daj_glos(self):\n",
    "        return \"Hau Hau\"\n",
    "\n",
    "kot = Kot(\"Filemon\")\n",
    "pies= Pies(\"Reksio\")\n",
    "\n",
    "kot.powitanie()\n",
    "pies.powitanie()\n"
   ]
  }
 ],
 "metadata": {
  "colab": {
   "name": "Lekcja+10.+Python+-+wprowadzenie_ZMODYFIKOWANE.ipynb",
   "provenance": []
  },
  "kernelspec": {
   "display_name": "Python 3 (ipykernel)",
   "language": "python",
   "name": "python3"
  },
  "language_info": {
   "codemirror_mode": {
    "name": "ipython",
    "version": 3
   },
   "file_extension": ".py",
   "mimetype": "text/x-python",
   "name": "python",
   "nbconvert_exporter": "python",
   "pygments_lexer": "ipython3",
   "version": "3.12.3"
  }
 },
 "nbformat": 4,
 "nbformat_minor": 4
}
