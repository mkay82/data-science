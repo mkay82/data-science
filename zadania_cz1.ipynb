{
 "cells": [
  {
   "cell_type": "markdown",
   "metadata": {
    "id": "UZIioLBXk4kQ"
   },
   "source": [
    "# Zadania"
   ]
  },
  {
   "cell_type": "markdown",
   "metadata": {
    "id": "1abX7YGbk4kQ"
   },
   "source": [
    "## Zadanie 1\n",
    "\n",
    "Napisz funkcję o dwóch argumentach, która sprawdzi, czy jedna liczba jest podzielna przez drugą liczbę."
   ]
  },
  {
   "cell_type": "code",
   "execution_count": 7,
   "metadata": {},
   "outputs": [
    {
     "name": "stdout",
     "output_type": "stream",
     "text": [
      "True\n",
      "True\n",
      "False\n",
      "True\n"
     ]
    }
   ],
   "source": [
    "def podzielna(liczba, dzielnik):\n",
    "    return liczba%dzielnik ==  0\n",
    "\n",
    "print(podzielna(3,1))\n",
    "print(podzielna(5, 2.5))\n",
    "print(podzielna(4,3))\n",
    "print(podzielna(10, -2))"
   ]
  },
  {
   "cell_type": "markdown",
   "metadata": {
    "id": "SN-by8Amk4kQ"
   },
   "source": [
    "## Zadanie 2.\n",
    "\n",
    "Napisz funkcję, która wypisze wszystkie liczby pierwsze mniejsze od liczby będącej argumentem funkcji."
   ]
  },
  {
   "cell_type": "code",
   "execution_count": 34,
   "metadata": {
    "id": "NrZETwnBk4kR"
   },
   "outputs": [
    {
     "name": "stdout",
     "output_type": "stream",
     "text": [
      "2\n",
      "3\n",
      "5\n",
      "7\n",
      "11\n",
      "13\n",
      "17\n",
      "19\n",
      "23\n",
      "29\n"
     ]
    }
   ],
   "source": [
    "def liczba_pierwsza(n): \n",
    "    # funkcja pomocnicza do sprawdzania, czy dana liczba jest liczbą pierwszą\n",
    "    if n<2:\n",
    "        return False\n",
    "    else:\n",
    "        for i in range(2, int(n**0.5)+1):\n",
    "            if n%i == 0:\n",
    "                return False\n",
    "        return True\n",
    "   \n",
    "def wypisz_liczby_pierwsze(n):\n",
    "    for i in range(0,n):\n",
    "        if liczba_pierwsza(i):\n",
    "            print(i)\n",
    "\n",
    "wypisz_liczby_pierwsze(30)"
   ]
  },
  {
   "cell_type": "markdown",
   "metadata": {
    "id": "6Wps5O-qk4kR"
   },
   "source": [
    "## Zadanie 3.\n",
    "\n",
    "Napisz funkcję, która posortuje listę liczb w porządku niemalejącym."
   ]
  },
  {
   "cell_type": "code",
   "execution_count": 40,
   "metadata": {
    "id": "t4zP0PWwk4kR"
   },
   "outputs": [
    {
     "name": "stdout",
     "output_type": "stream",
     "text": [
      "[-1, 0, 4, 9, 80]\n",
      "[-11.82, 0.2, 4.1, 10.4, 29]\n",
      "[80, 80, 80]\n"
     ]
    }
   ],
   "source": [
    "def sortuj(l):\n",
    "    l.sort()\n",
    "    return l\n",
    "\n",
    "print(sortuj([0,-1,4,9,80]))\n",
    "print(sortuj([10.4,-11.82,4.1,0.2,29]))\n",
    "print(sortuj([80,80,80]))\n",
    "\n"
   ]
  },
  {
   "cell_type": "markdown",
   "metadata": {
    "id": "tYr81lmmk4kR"
   },
   "source": [
    "## Zadanie 4.\n",
    "\n",
    "Napisz funkcję, która dla dwóch list liczbowych zwróci listę zawierającą tylko te elementy, które należą do obydwu list wejściowych."
   ]
  },
  {
   "cell_type": "code",
   "execution_count": 44,
   "metadata": {
    "id": "yczrhQAyk4kR"
   },
   "outputs": [
    {
     "name": "stdout",
     "output_type": "stream",
     "text": [
      "[1, 2]\n",
      "[1, 2]\n",
      "[1]\n",
      "[1]\n"
     ]
    }
   ],
   "source": [
    "def elementy_wspolne(l1, l2):\n",
    "    return list(set(l1) & set(l2))\n",
    "\n",
    "def elementy_wspolne2(l1, l2):\n",
    "    res = []\n",
    "    for e1 in l1:\n",
    "        if e1 in l2 and e1 not in res:\n",
    "            res.append(e1)\n",
    "    return res\n",
    "\n",
    "print(elementy_wspolne([0,1,5, 8, 2], [9, 2,4,1]))\n",
    "print(elementy_wspolne2([0,1,5, 8, 2], [9, 2,4,1]))\n",
    "\n",
    "print(elementy_wspolne([1,1,1,2,5], [0,1,4]))\n",
    "print(elementy_wspolne2([1,1,1,2,5], [0,1,4]))"
   ]
  },
  {
   "cell_type": "markdown",
   "metadata": {
    "id": "oFYtE3zyk4kR"
   },
   "source": [
    "## Zadanie 5.\n",
    "\n",
    "Napisz funkcję, która zwróci które urodziny będą obchodziły w tym roku osoby urodzone w latach podanych w lisćie będącej argumentem wejściowym danej funkcji."
   ]
  },
  {
   "cell_type": "code",
   "execution_count": 46,
   "metadata": {
    "id": "cEd89faik4kS"
   },
   "outputs": [
    {
     "name": "stdout",
     "output_type": "stream",
     "text": [
      "[105, 43, 22, 8]\n"
     ]
    }
   ],
   "source": [
    "def urodziny(l):\n",
    "    from datetime import datetime\n",
    "    rok = datetime.now().year\n",
    "    res = []\n",
    "    for i in l:\n",
    "        res.append(rok-i)\n",
    "    return res\n",
    "\n",
    "print(urodziny([1920, 1982, 2003, 2017]))\n",
    "        \n",
    "        "
   ]
  },
  {
   "cell_type": "markdown",
   "metadata": {
    "id": "RTPg2DDyk4kS"
   },
   "source": [
    "## Zadanie 6.\n",
    "\n",
    "Wybierz kilka państw i stwórz dla każdego słownik, który będzie zawierać dane o nazwie państwa, powierzchni, liczbie mieszkańców, PKB per capita (PPP). Napisz funkcję, która dla listy słowników będzie wypisywać listę państw uszeregowanych według:\n",
    "* powierzchni\n",
    "* liczby ludności\n",
    "* gęstości zaludnienia\n",
    "* PKB per capita (PPP)"
   ]
  },
  {
   "cell_type": "code",
   "execution_count": 9,
   "metadata": {
    "id": "9uGw-SiSk4kS"
   },
   "outputs": [
    {
     "name": "stdout",
     "output_type": "stream",
     "text": [
      "[{'nazwa': 'Szwajcaria', 'powierzchnia': '41285', 'liczba_mieszkancow_w_mln': '8.88', 'ppp_w_usd': '81683'}, {'nazwa': 'Chorwacja', 'powierzchnia': '56594', 'liczba_mieszkancow_w_mln': '4.04', 'ppp_w_usd': '41343'}, {'nazwa': 'Grecja', 'powierzchnia': '131957', 'liczba_mieszkancow_w_mln': '10.4', 'ppp_w_usd': '33000'}, {'nazwa': 'Polska', 'powierzchnia': '312683', 'liczba_mieszkancow_w_mln': '37.6', 'ppp_w_usd': '44050'}]\n",
      "--------------------\n",
      "[{'nazwa': 'Szwajcaria', 'powierzchnia': '41285', 'liczba_mieszkancow_w_mln': '8.88', 'ppp_w_usd': '81683'}, {'nazwa': 'Polska', 'powierzchnia': '312683', 'liczba_mieszkancow_w_mln': '37.6', 'ppp_w_usd': '44050'}, {'nazwa': 'Grecja', 'powierzchnia': '131957', 'liczba_mieszkancow_w_mln': '10.4', 'ppp_w_usd': '33000'}, {'nazwa': 'Chorwacja', 'powierzchnia': '56594', 'liczba_mieszkancow_w_mln': '4.04', 'ppp_w_usd': '41343'}]\n",
      "--------------------\n",
      "[{'nazwa': 'Chorwacja', 'powierzchnia': '56594', 'liczba_mieszkancow_w_mln': '4.04', 'ppp_w_usd': '41343'}, {'nazwa': 'Szwajcaria', 'powierzchnia': '41285', 'liczba_mieszkancow_w_mln': '8.88', 'ppp_w_usd': '81683'}, {'nazwa': 'Grecja', 'powierzchnia': '131957', 'liczba_mieszkancow_w_mln': '10.4', 'ppp_w_usd': '33000'}, {'nazwa': 'Polska', 'powierzchnia': '312683', 'liczba_mieszkancow_w_mln': '37.6', 'ppp_w_usd': '44050'}]\n",
      "--------------------\n",
      "[{'nazwa': 'Szwajcaria', 'powierzchnia': '41285', 'liczba_mieszkancow_w_mln': '8.88', 'ppp_w_usd': '81683'}, {'nazwa': 'Polska', 'powierzchnia': '312683', 'liczba_mieszkancow_w_mln': '37.6', 'ppp_w_usd': '44050'}, {'nazwa': 'Chorwacja', 'powierzchnia': '56594', 'liczba_mieszkancow_w_mln': '4.04', 'ppp_w_usd': '41343'}, {'nazwa': 'Grecja', 'powierzchnia': '131957', 'liczba_mieszkancow_w_mln': '10.4', 'ppp_w_usd': '33000'}]\n",
      "--------------------\n",
      "[{'nazwa': 'Chorwacja', 'powierzchnia': '56594', 'liczba_mieszkancow_w_mln': '4.04', 'ppp_w_usd': '41343'}, {'nazwa': 'Grecja', 'powierzchnia': '131957', 'liczba_mieszkancow_w_mln': '10.4', 'ppp_w_usd': '33000'}, {'nazwa': 'Polska', 'powierzchnia': '312683', 'liczba_mieszkancow_w_mln': '37.6', 'ppp_w_usd': '44050'}, {'nazwa': 'Szwajcaria', 'powierzchnia': '41285', 'liczba_mieszkancow_w_mln': '8.88', 'ppp_w_usd': '81683'}]\n",
      "--------------------\n"
     ]
    }
   ],
   "source": [
    "panstwa = [\n",
    "    {'nazwa': 'Polska',\n",
    "      'powierzchnia': '312683',\n",
    "      'liczba_mieszkancow_w_mln': '37.6',\n",
    "      'ppp_w_usd': '44050'\n",
    "     },\n",
    "    {'nazwa': 'Chorwacja',\n",
    "     'powierzchnia': '56594',\n",
    "     'liczba_mieszkancow_w_mln': '4.04',\n",
    "     'ppp_w_usd': '41343'\n",
    "    },\n",
    "    {'nazwa': 'Szwajcaria',\n",
    "     'powierzchnia': '41285',\n",
    "     'liczba_mieszkancow_w_mln': '8.88',\n",
    "     'ppp_w_usd': '81683'\n",
    "    },\n",
    "    {'nazwa': 'Grecja',\n",
    "     'powierzchnia': '131957',\n",
    "     'liczba_mieszkancow_w_mln': '10.4',\n",
    "     'ppp_w_usd': '33000'\n",
    "    }\n",
    "]\n",
    "\n",
    "def klucz_sortowania(elem, klucz):\n",
    "    if klucz==\"gestosc_zaludnienia\":\n",
    "        return float(elem['liczba_mieszkancow_w_mln'])/float(elem['powierzchnia'])\n",
    "    try:\n",
    "        return float(elem[klucz])\n",
    "    except:\n",
    "        return str(elem[klucz])\n",
    "\n",
    "def sortuj(panstwa, klucz, malejaco=False):\n",
    "    def klucz_dla_sorted(x):\n",
    "        return klucz_sortowania(x, klucz)\n",
    "    return sorted(panstwa, key=klucz_dla_sorted, reverse=malejaco)\n",
    "\n",
    "\n",
    "print(sortuj(panstwa, \"powierzchnia\"))\n",
    "print(\"-\"*20)\n",
    "print(sortuj(panstwa, \"nazwa\", True))\n",
    "print(\"-\"*20)\n",
    "print(sortuj(panstwa, \"liczba_mieszkancow_w_mln\"))\n",
    "print(\"-\"*20)\n",
    "print(sortuj(panstwa, \"ppp_w_usd\", True))\n",
    "print(\"-\"*20)\n",
    "print(sortuj(panstwa, \"gestosc_zaludnienia\"))\n",
    "print(\"-\"*20)"
   ]
  },
  {
   "cell_type": "markdown",
   "metadata": {
    "id": "o09rDDKak4kS"
   },
   "source": [
    "## Zadanie 7.\n",
    "\n",
    "Napisz funkcję przyjmujaca napis i zwracajaca informacje ile liter i cyfr jest w napisie."
   ]
  },
  {
   "cell_type": "code",
   "execution_count": 9,
   "metadata": {
    "id": "I2-mbJnok4kS"
   },
   "outputs": [
    {
     "name": "stdout",
     "output_type": "stream",
     "text": [
      "(3, 4)\n",
      "(13, 2)\n",
      "(5, 6)\n"
     ]
    }
   ],
   "source": [
    "def licz_znaki(s):\n",
    "    litery=0\n",
    "    cyfry=0\n",
    "    for i in range(0, len(s)):\n",
    "        if s[i].isalpha():\n",
    "            litery += 1\n",
    "        elif s[i].isdigit():\n",
    "            cyfry += 1\n",
    "    return litery, cyfry\n",
    "\n",
    "print(licz_znaki(\"abc 1234\"))\n",
    "print(licz_znaki(\"2 banany i 4 jabłka\"))\n",
    "print(licz_znaki(\"T0 j35t n4p15\"))"
   ]
  },
  {
   "cell_type": "markdown",
   "metadata": {
    "id": "EYmN7hQqk4kS"
   },
   "source": [
    "## Zadanie 8.\n",
    "\n",
    "Napisz funkcję, która sprawdzi czy 2 napisy sa palindromami."
   ]
  },
  {
   "cell_type": "code",
   "execution_count": 131,
   "metadata": {
    "id": "zvwHGalKk4kT"
   },
   "outputs": [
    {
     "name": "stdout",
     "output_type": "stream",
     "text": [
      "True\n",
      "True\n",
      "False\n",
      "True\n"
     ]
    }
   ],
   "source": [
    "def palindrom(s1, s2):\n",
    "    return s1 == s2[::-1]\n",
    "\n",
    "print(palindrom(\"oko\", \"oko\"))\n",
    "print(palindrom(\"abc\", \"cba\"))\n",
    "print(palindrom(\"sasadasdasf\", \"dwerferer\"))\n",
    "print(palindrom(\"123 abc 456\", \"654 cba 321\"))\n"
   ]
  },
  {
   "cell_type": "markdown",
   "metadata": {
    "id": "XEoF9bs1k4kT"
   },
   "source": [
    "## Zadanie 9.\n",
    "\n",
    "Używajac zagnieżdżonych pętli, stwórz funkcję, która wydrukuje następujcy wzór:"
   ]
  },
  {
   "cell_type": "code",
   "execution_count": null,
   "metadata": {
    "id": "gSyeCSL2k4kT"
   },
   "outputs": [],
   "source": [
    "* \n",
    "* $ \n",
    "* $ * \n",
    "* $ * $ \n",
    "* $ * $ * \n",
    "* $ * $ \n",
    "* $ * \n",
    "* $ \n",
    "*"
   ]
  },
  {
   "cell_type": "code",
   "execution_count": 121,
   "metadata": {},
   "outputs": [
    {
     "name": "stdout",
     "output_type": "stream",
     "text": [
      "* \n",
      "* $ \n",
      "* $ * \n",
      "* $ * $ \n",
      "* $ * $ * \n",
      "* $ * $ \n",
      "* $ * \n",
      "* $ \n",
      "* \n",
      "* \n",
      "* $ \n",
      "* $ * \n",
      "* $ * $ \n",
      "* $ * $ * \n",
      "* $ * $ * $ \n",
      "* $ * $ * $ * \n",
      "* $ * $ * $ * $ \n",
      "* $ * $ * $ * $ * \n",
      "* $ * $ * $ * $ * $ \n",
      "* $ * $ * $ * $ * $ * \n",
      "* $ * $ * $ * $ * $ * $ \n",
      "* $ * $ * $ * $ * $ * $ * \n",
      "* $ * $ * $ * $ * $ * $ * $ \n",
      "* $ * $ * $ * $ * $ * $ * $ * \n",
      "* $ * $ * $ * $ * $ * $ * $ \n",
      "* $ * $ * $ * $ * $ * $ * \n",
      "* $ * $ * $ * $ * $ * $ \n",
      "* $ * $ * $ * $ * $ * \n",
      "* $ * $ * $ * $ * $ \n",
      "* $ * $ * $ * $ * \n",
      "* $ * $ * $ * $ \n",
      "* $ * $ * $ * \n",
      "* $ * $ * $ \n",
      "* $ * $ * \n",
      "* $ * $ \n",
      "* $ * \n",
      "* $ \n",
      "* \n"
     ]
    }
   ],
   "source": [
    "def choinka(dlugosc):\n",
    "    znaki=(\"*\", \"$\")\n",
    "    \n",
    "    for i in range(1, dlugosc+1):\n",
    "        for j in range(i):\n",
    "            print(znaki[j%2] + \" \", end=\"\")\n",
    "        print()\n",
    "    for i in range(dlugosc-1, 0, -1):\n",
    "        for j in range(i):\n",
    "            print(znaki[j%2] + \" \", end=\"\")\n",
    "        print()\n",
    "        \n",
    "    \n",
    "choinka(5)\n",
    "choinka(15)"
   ]
  },
  {
   "cell_type": "markdown",
   "metadata": {
    "id": "K9dsY0aEk4kT"
   },
   "source": [
    "## Zadanie 10.\n",
    "\n",
    "Napisz funkcję, która przyjmie dwie listy liczb całkowitych, i zwróci listę liczb występujcych w pierwszej i nie występujacych w drugiej liscie, posortowana rosnaco względem ilosci wystapien w pierwszej liscie."
   ]
  },
  {
   "cell_type": "code",
   "execution_count": 40,
   "metadata": {
    "id": "fN0muadNk4kU"
   },
   "outputs": [
    {
     "name": "stdout",
     "output_type": "stream",
     "text": [
      "[6, -2, -9, 2, 5]\n",
      "[]\n",
      "[]\n",
      "[7, 90, 6]\n",
      "[6, 26, -9, 9, -2, 1]\n"
     ]
    }
   ],
   "source": [
    "def sortuj_liczby(d):\n",
    "    def get_ilosc_wystapien(item):\n",
    "        return item[1]\n",
    "    s=sorted(d.items(), key=get_ilosc_wystapien)\n",
    "    return [ el[0] for el in s ]\n",
    "\n",
    "\n",
    "def unikalne_liczby(l1, l2):\n",
    "    res = {}\n",
    "    for i in l1:\n",
    "        if i not in l2:\n",
    "            if i in res:\n",
    "                res[i] += 1\n",
    "            else:\n",
    "                res[i] = 1\n",
    "    return sortuj_liczby(res)\n",
    "\n",
    "print(unikalne_liczby([2,4,3,2,4,5,5,5,6,2,4,-2,-9], [3,4]))\n",
    "print(unikalne_liczby([1],[1]))\n",
    "print(unikalne_liczby([],[1,2]))\n",
    "print(unikalne_liczby([4,5,7,2,5,90,2,3,6],[2,4,5,3,12]))\n",
    "print(unikalne_liczby([2,4,3,2,9,9,6,-2,26,1,1,1,1,1,2,4,-2,-9],[2,4,3]))"
   ]
  },
  {
   "cell_type": "markdown",
   "metadata": {
    "id": "5vdCZnNVk4kU"
   },
   "source": [
    "## Zadanie 11.\n",
    "\n",
    "Utworz funkcję, która przyjmie argument **`int`** *n* i obliczy *n-ta* liczbę ciagu Fibonacciego."
   ]
  },
  {
   "cell_type": "code",
   "execution_count": 14,
   "metadata": {
    "id": "tMRB6EuUk4kU"
   },
   "outputs": [
    {
     "name": "stdout",
     "output_type": "stream",
     "text": [
      "None\n",
      "0\n",
      "1\n",
      "3\n",
      "34\n",
      "None\n",
      "0\n",
      "1\n",
      "3\n",
      "34\n"
     ]
    }
   ],
   "source": [
    "def fibonacci_rek(n):\n",
    "    if n<=0:\n",
    "        return None\n",
    "    elif n<=2:\n",
    "        return n-1\n",
    "    else:\n",
    "        return fibonacci(n-1)+fibonacci(n-2)\n",
    "\n",
    "def fibonacci(n):\n",
    "    if n<=0:\n",
    "        return None\n",
    "    elif n<=2: # pierwszy element to 0, a drugi: 1\n",
    "        return n-1\n",
    "    else:\n",
    "        f1=0\n",
    "        f2=1\n",
    "        for i in range(n-2):\n",
    "            f1, f2 = f2, f1+f2\n",
    "        return f2\n",
    "        \n",
    "\n",
    "print(fibonacci_rek(0))\n",
    "print(fibonacci_rek(1))\n",
    "print(fibonacci_rek(2))\n",
    "print(fibonacci_rek(5))\n",
    "print(fibonacci_rek(10))\n",
    "\n",
    "\n",
    "print(fibonacci(0))\n",
    "print(fibonacci(1))\n",
    "print(fibonacci(2))\n",
    "print(fibonacci(5))\n",
    "print(fibonacci(10))"
   ]
  },
  {
   "cell_type": "markdown",
   "metadata": {
    "id": "6pSRopPEk4kU"
   },
   "source": [
    "## Zadanie 12.\n",
    "\n",
    "Napisz funkcję, która przyjmie argumenty nazwane *imie* i *wzrost* a następnie utworzy wpis do globalnego słownika.\n",
    "Dodaj co najmniej 5 wpisów."
   ]
  },
  {
   "cell_type": "code",
   "execution_count": 16,
   "metadata": {
    "id": "FU8JVlVQk4kU"
   },
   "outputs": [
    {
     "name": "stdout",
     "output_type": "stream",
     "text": [
      "{'Marek': 175, 'Ola': 167, 'Jan': 182, 'Olgierd': 190, 'Krzysztof': 183}\n"
     ]
    }
   ],
   "source": [
    "osoby = {}\n",
    "def dodaj_osoby(imie, wzrost):\n",
    "    osoby[imie]=wzrost\n",
    "\n",
    "dodaj_osoby(\"Marek\", 175)\n",
    "dodaj_osoby(\"Ola\", 167)\n",
    "dodaj_osoby(\"Jan\", 182)\n",
    "dodaj_osoby(\"Olgierd\", 190)\n",
    "dodaj_osoby(\"Krzysztof\", 183)\n",
    "\n",
    "print(osoby)"
   ]
  },
  {
   "cell_type": "markdown",
   "metadata": {
    "id": "cFN1JF44k4kU"
   },
   "source": [
    "## Zadanie 13.\n",
    "\n",
    "Napisz funkcję, która przyjmie słownik mapujacy imiona na wzrost, a następnie zwróci listę zawierajaca imiona posortowane według wzrostu malejaco."
   ]
  },
  {
   "cell_type": "code",
   "execution_count": 41,
   "metadata": {
    "id": "mj6ieIFik4kV"
   },
   "outputs": [
    {
     "name": "stdout",
     "output_type": "stream",
     "text": [
      "['Olgierd', 'Krzysztof', 'Jan', 'Marek', 'Ola']\n"
     ]
    }
   ],
   "source": [
    "def sortuj_osoby(o):\n",
    "    def get_wzrost(item):\n",
    "        return item[1]\n",
    "    return [el[0] for el in sorted(o.items(), key=get_wzrost, reverse=True)]\n",
    "\n",
    "print(sortuj_osoby(osoby))"
   ]
  },
  {
   "cell_type": "markdown",
   "metadata": {
    "id": "6sQkTKm-k4kV"
   },
   "source": [
    "## Zadanie 14.\n",
    "\n",
    "Napisz (przy pomocy rekurencji) funkcję realizujaca potęgowanie. Funkcja przyjmuje dwie liczby całkowite, będace podstawa i wykładnikiem potęgi."
   ]
  },
  {
   "cell_type": "code",
   "execution_count": 60,
   "metadata": {
    "id": "CNPuQEp0k4kV"
   },
   "outputs": [
    {
     "name": "stdout",
     "output_type": "stream",
     "text": [
      "-8\n",
      "9\n",
      "100000\n",
      "5\n",
      "1\n",
      "0.125\n",
      "0.5\n"
     ]
    }
   ],
   "source": [
    "def poteguj(p, w):\n",
    "    if w==0:\n",
    "        return 1\n",
    "    elif w<0:\n",
    "        p=1/(p*poteguj(p, -w-1))\n",
    "    elif w>1:\n",
    "        p=p*poteguj(p, w-1)\n",
    "    return p\n",
    "\n",
    "print(poteguj(-2,3))\n",
    "print(poteguj(3,2))\n",
    "print(poteguj(10,5))\n",
    "print(poteguj(5,1))\n",
    "print(poteguj(5,0))\n",
    "print(poteguj(2,-3))\n",
    "print(poteguj(2,-1))"
   ]
  },
  {
   "cell_type": "markdown",
   "metadata": {
    "id": "JT4Gmfybk4kW"
   },
   "source": [
    "## Zadanie 15.\n",
    "\n",
    "Napisz funkcję przyjmujaca jeden parametr **`list`** zawierajacy liczby całkowite i zwracajaca element, który pojawia się na liscie najczęciej."
   ]
  },
  {
   "cell_type": "code",
   "execution_count": 26,
   "metadata": {
    "id": "hMTKcqe7k4kW"
   },
   "outputs": [
    {
     "name": "stdout",
     "output_type": "stream",
     "text": [
      "2\n",
      "1\n",
      "None\n",
      "5\n",
      "1\n"
     ]
    }
   ],
   "source": [
    "def najczestsza_liczba(l):\n",
    "    wystapienia = {}\n",
    "    max_wystapien = 0\n",
    "    najczestsza_liczba=None\n",
    "    for i in l:\n",
    "        if i in wystapienia:\n",
    "            wystapienia[i] += 1\n",
    "        else:\n",
    "            wystapienia[i] = 1\n",
    "        if wystapienia[i] > max_wystapien:\n",
    "            max_wystapien = wystapienia[i]\n",
    "            najczestsza_liczba = i\n",
    "    return najczestsza_liczba\n",
    "\n",
    "print(najczestsza_liczba([2,4,3,2,4,6,8,26,2,4,-2,-9]))\n",
    "print(najczestsza_liczba([1]))\n",
    "print(najczestsza_liczba([]))\n",
    "print(najczestsza_liczba([4,5,7,2,5,90,2,3,6]))\n",
    "print(najczestsza_liczba([2,4,3,2,4,6,8,26,1,1,1,1,1,2,4,-2,-9]))"
   ]
  },
  {
   "cell_type": "markdown",
   "metadata": {
    "id": "e_8BUYzEk4kW"
   },
   "source": [
    "# Materiały\n",
    "\n",
    "- https://try.jupyter.org\n",
    "- https://docs.python.org/3/tutorial/index.html\n",
    "- https://docs.python.org/3/tutorial/introduction.html\n",
    "- https://daringfireball.net/projects/markdown/syntax"
   ]
  }
 ],
 "metadata": {
  "colab": {
   "name": "Lekcja+9.+Python+-+wprowadzenie.ipynb",
   "provenance": []
  },
  "kernelspec": {
   "display_name": "Python 3 (ipykernel)",
   "language": "python",
   "name": "python3"
  },
  "language_info": {
   "codemirror_mode": {
    "name": "ipython",
    "version": 3
   },
   "file_extension": ".py",
   "mimetype": "text/x-python",
   "name": "python",
   "nbconvert_exporter": "python",
   "pygments_lexer": "ipython3",
   "version": "3.12.3"
  }
 },
 "nbformat": 4,
 "nbformat_minor": 4
}
